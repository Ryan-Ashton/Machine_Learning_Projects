{
 "cells": [
  {
   "cell_type": "markdown",
   "metadata": {},
   "source": [
    "## Powerlifting Dataset\n",
    "\n",
    "As a former powerlifter, this dataset caught my eye! I wanted to explore this to bring back memories!\n",
    "\n",
    "This dataset is a snapshot of the OpenPowerlifting database as of April 2019. OpenPowerlifting is creating a public-domain archive of powerlifting history. Powerlifting is a sport in which competitors compete to lift the most weight for their class in three separate barbell lifts: the Squat, Bench, and Deadlift. Source: https://www.openpowerlifting.org/\n",
    "\n",
    "Here I use the dataset to predict what someone's bench press would be based on their age, weight and gender."
   ]
  },
  {
   "cell_type": "code",
   "execution_count": 1,
   "metadata": {},
   "outputs": [],
   "source": [
    "import pandas as pd\n",
    "import numpy as np\n",
    "import matplotlib.pyplot as plt\n",
    "import seaborn as sns\n",
    "import warnings\n",
    "warnings.simplefilter('ignore')"
   ]
  },
  {
   "cell_type": "code",
   "execution_count": 2,
   "metadata": {},
   "outputs": [
    {
     "data": {
      "text/html": [
       "<div>\n",
       "<style scoped>\n",
       "    .dataframe tbody tr th:only-of-type {\n",
       "        vertical-align: middle;\n",
       "    }\n",
       "\n",
       "    .dataframe tbody tr th {\n",
       "        vertical-align: top;\n",
       "    }\n",
       "\n",
       "    .dataframe thead th {\n",
       "        text-align: right;\n",
       "    }\n",
       "</style>\n",
       "<table border=\"1\" class=\"dataframe\">\n",
       "  <thead>\n",
       "    <tr style=\"text-align: right;\">\n",
       "      <th></th>\n",
       "      <th>Name</th>\n",
       "      <th>Sex</th>\n",
       "      <th>Event</th>\n",
       "      <th>Equipment</th>\n",
       "      <th>Age</th>\n",
       "      <th>AgeClass</th>\n",
       "      <th>Division</th>\n",
       "      <th>BodyweightKg</th>\n",
       "      <th>WeightClassKg</th>\n",
       "      <th>Squat1Kg</th>\n",
       "      <th>...</th>\n",
       "      <th>McCulloch</th>\n",
       "      <th>Glossbrenner</th>\n",
       "      <th>IPFPoints</th>\n",
       "      <th>Tested</th>\n",
       "      <th>Country</th>\n",
       "      <th>Federation</th>\n",
       "      <th>Date</th>\n",
       "      <th>MeetCountry</th>\n",
       "      <th>MeetState</th>\n",
       "      <th>MeetName</th>\n",
       "    </tr>\n",
       "  </thead>\n",
       "  <tbody>\n",
       "    <tr>\n",
       "      <th>0</th>\n",
       "      <td>Abbie Murphy</td>\n",
       "      <td>F</td>\n",
       "      <td>SBD</td>\n",
       "      <td>Wraps</td>\n",
       "      <td>29.0</td>\n",
       "      <td>24-34</td>\n",
       "      <td>F-OR</td>\n",
       "      <td>59.8</td>\n",
       "      <td>60</td>\n",
       "      <td>80.0</td>\n",
       "      <td>...</td>\n",
       "      <td>324.16</td>\n",
       "      <td>286.42</td>\n",
       "      <td>511.15</td>\n",
       "      <td>NaN</td>\n",
       "      <td>NaN</td>\n",
       "      <td>GPC-AUS</td>\n",
       "      <td>2018-10-27</td>\n",
       "      <td>Australia</td>\n",
       "      <td>VIC</td>\n",
       "      <td>Melbourne Cup</td>\n",
       "    </tr>\n",
       "    <tr>\n",
       "      <th>1</th>\n",
       "      <td>Abbie Tuong</td>\n",
       "      <td>F</td>\n",
       "      <td>SBD</td>\n",
       "      <td>Wraps</td>\n",
       "      <td>29.0</td>\n",
       "      <td>24-34</td>\n",
       "      <td>F-OR</td>\n",
       "      <td>58.5</td>\n",
       "      <td>60</td>\n",
       "      <td>100.0</td>\n",
       "      <td>...</td>\n",
       "      <td>378.07</td>\n",
       "      <td>334.16</td>\n",
       "      <td>595.65</td>\n",
       "      <td>NaN</td>\n",
       "      <td>NaN</td>\n",
       "      <td>GPC-AUS</td>\n",
       "      <td>2018-10-27</td>\n",
       "      <td>Australia</td>\n",
       "      <td>VIC</td>\n",
       "      <td>Melbourne Cup</td>\n",
       "    </tr>\n",
       "    <tr>\n",
       "      <th>2</th>\n",
       "      <td>Ainslee Hooper</td>\n",
       "      <td>F</td>\n",
       "      <td>B</td>\n",
       "      <td>Raw</td>\n",
       "      <td>40.0</td>\n",
       "      <td>40-44</td>\n",
       "      <td>F-OR</td>\n",
       "      <td>55.4</td>\n",
       "      <td>56</td>\n",
       "      <td>NaN</td>\n",
       "      <td>...</td>\n",
       "      <td>38.56</td>\n",
       "      <td>34.12</td>\n",
       "      <td>313.97</td>\n",
       "      <td>NaN</td>\n",
       "      <td>NaN</td>\n",
       "      <td>GPC-AUS</td>\n",
       "      <td>2018-10-27</td>\n",
       "      <td>Australia</td>\n",
       "      <td>VIC</td>\n",
       "      <td>Melbourne Cup</td>\n",
       "    </tr>\n",
       "    <tr>\n",
       "      <th>3</th>\n",
       "      <td>Amy Moldenhauer</td>\n",
       "      <td>F</td>\n",
       "      <td>SBD</td>\n",
       "      <td>Wraps</td>\n",
       "      <td>23.0</td>\n",
       "      <td>20-23</td>\n",
       "      <td>F-OR</td>\n",
       "      <td>60.0</td>\n",
       "      <td>60</td>\n",
       "      <td>-105.0</td>\n",
       "      <td>...</td>\n",
       "      <td>345.61</td>\n",
       "      <td>305.37</td>\n",
       "      <td>547.04</td>\n",
       "      <td>NaN</td>\n",
       "      <td>NaN</td>\n",
       "      <td>GPC-AUS</td>\n",
       "      <td>2018-10-27</td>\n",
       "      <td>Australia</td>\n",
       "      <td>VIC</td>\n",
       "      <td>Melbourne Cup</td>\n",
       "    </tr>\n",
       "    <tr>\n",
       "      <th>4</th>\n",
       "      <td>Andrea Rowan</td>\n",
       "      <td>F</td>\n",
       "      <td>SBD</td>\n",
       "      <td>Wraps</td>\n",
       "      <td>45.0</td>\n",
       "      <td>45-49</td>\n",
       "      <td>F-OR</td>\n",
       "      <td>104.0</td>\n",
       "      <td>110</td>\n",
       "      <td>120.0</td>\n",
       "      <td>...</td>\n",
       "      <td>338.91</td>\n",
       "      <td>274.56</td>\n",
       "      <td>550.08</td>\n",
       "      <td>NaN</td>\n",
       "      <td>NaN</td>\n",
       "      <td>GPC-AUS</td>\n",
       "      <td>2018-10-27</td>\n",
       "      <td>Australia</td>\n",
       "      <td>VIC</td>\n",
       "      <td>Melbourne Cup</td>\n",
       "    </tr>\n",
       "  </tbody>\n",
       "</table>\n",
       "<p>5 rows × 37 columns</p>\n",
       "</div>"
      ],
      "text/plain": [
       "              Name Sex Event Equipment   Age AgeClass Division  BodyweightKg  \\\n",
       "0     Abbie Murphy   F   SBD     Wraps  29.0    24-34     F-OR          59.8   \n",
       "1      Abbie Tuong   F   SBD     Wraps  29.0    24-34     F-OR          58.5   \n",
       "2   Ainslee Hooper   F     B       Raw  40.0    40-44     F-OR          55.4   \n",
       "3  Amy Moldenhauer   F   SBD     Wraps  23.0    20-23     F-OR          60.0   \n",
       "4     Andrea Rowan   F   SBD     Wraps  45.0    45-49     F-OR         104.0   \n",
       "\n",
       "  WeightClassKg  Squat1Kg  ...  McCulloch  Glossbrenner  IPFPoints  Tested  \\\n",
       "0            60      80.0  ...     324.16        286.42     511.15     NaN   \n",
       "1            60     100.0  ...     378.07        334.16     595.65     NaN   \n",
       "2            56       NaN  ...      38.56         34.12     313.97     NaN   \n",
       "3            60    -105.0  ...     345.61        305.37     547.04     NaN   \n",
       "4           110     120.0  ...     338.91        274.56     550.08     NaN   \n",
       "\n",
       "   Country  Federation        Date  MeetCountry  MeetState       MeetName  \n",
       "0      NaN     GPC-AUS  2018-10-27    Australia        VIC  Melbourne Cup  \n",
       "1      NaN     GPC-AUS  2018-10-27    Australia        VIC  Melbourne Cup  \n",
       "2      NaN     GPC-AUS  2018-10-27    Australia        VIC  Melbourne Cup  \n",
       "3      NaN     GPC-AUS  2018-10-27    Australia        VIC  Melbourne Cup  \n",
       "4      NaN     GPC-AUS  2018-10-27    Australia        VIC  Melbourne Cup  \n",
       "\n",
       "[5 rows x 37 columns]"
      ]
     },
     "execution_count": 2,
     "metadata": {},
     "output_type": "execute_result"
    }
   ],
   "source": [
    "df = pd.read_csv('openpowerlifting.csv')\n",
    "df.head()"
   ]
  },
  {
   "cell_type": "code",
   "execution_count": 3,
   "metadata": {},
   "outputs": [
    {
     "data": {
      "text/plain": [
       "Index(['Name', 'Sex', 'Event', 'Equipment', 'Age', 'AgeClass', 'Division',\n",
       "       'BodyweightKg', 'WeightClassKg', 'Squat1Kg', 'Squat2Kg', 'Squat3Kg',\n",
       "       'Squat4Kg', 'Best3SquatKg', 'Bench1Kg', 'Bench2Kg', 'Bench3Kg',\n",
       "       'Bench4Kg', 'Best3BenchKg', 'Deadlift1Kg', 'Deadlift2Kg', 'Deadlift3Kg',\n",
       "       'Deadlift4Kg', 'Best3DeadliftKg', 'TotalKg', 'Place', 'Wilks',\n",
       "       'McCulloch', 'Glossbrenner', 'IPFPoints', 'Tested', 'Country',\n",
       "       'Federation', 'Date', 'MeetCountry', 'MeetState', 'MeetName'],\n",
       "      dtype='object')"
      ]
     },
     "execution_count": 3,
     "metadata": {},
     "output_type": "execute_result"
    }
   ],
   "source": [
    "df.columns"
   ]
  },
  {
   "cell_type": "code",
   "execution_count": 4,
   "metadata": {},
   "outputs": [
    {
     "data": {
      "text/plain": [
       "(1420270, 37)"
      ]
     },
     "execution_count": 4,
     "metadata": {},
     "output_type": "execute_result"
    }
   ],
   "source": [
    "# Drop duplicates\n",
    "df = df.drop_duplicates(keep= 'first')\n",
    "\n",
    "# Check the shape \n",
    "df.shape"
   ]
  },
  {
   "cell_type": "code",
   "execution_count": 5,
   "metadata": {},
   "outputs": [
    {
     "name": "stdout",
     "output_type": "stream",
     "text": [
      "<class 'pandas.core.frame.DataFrame'>\n",
      "Int64Index: 1420270 entries, 0 to 1423353\n",
      "Data columns (total 37 columns):\n",
      "Name               1420270 non-null object\n",
      "Sex                1420270 non-null object\n",
      "Event              1420270 non-null object\n",
      "Equipment          1420270 non-null object\n",
      "Age                756162 non-null float64\n",
      "AgeClass           784981 non-null object\n",
      "Division           1412100 non-null object\n",
      "BodyweightKg       1403552 non-null float64\n",
      "WeightClassKg      1406966 non-null object\n",
      "Squat1Kg           337121 non-null float64\n",
      "Squat2Kg           332894 non-null float64\n",
      "Squat3Kg           323413 non-null float64\n",
      "Squat4Kg           3690 non-null float64\n",
      "Best3SquatKg       1029488 non-null float64\n",
      "Bench1Kg           499112 non-null float64\n",
      "Bench2Kg           492833 non-null float64\n",
      "Bench3Kg           477858 non-null float64\n",
      "Bench4Kg           9467 non-null float64\n",
      "Best3BenchKg       1273409 non-null float64\n",
      "Deadlift1Kg        363041 non-null float64\n",
      "Deadlift2Kg        355533 non-null float64\n",
      "Deadlift3Kg        339475 non-null float64\n",
      "Deadlift4Kg        9209 non-null float64\n",
      "Best3DeadliftKg    1079315 non-null float64\n",
      "TotalKg            1310355 non-null float64\n",
      "Place              1420270 non-null object\n",
      "Wilks              1301586 non-null float64\n",
      "McCulloch          1301433 non-null float64\n",
      "Glossbrenner       1301586 non-null float64\n",
      "IPFPoints          1270965 non-null float64\n",
      "Tested             1091337 non-null object\n",
      "Country            388291 non-null object\n",
      "Federation         1420270 non-null object\n",
      "Date               1420270 non-null object\n",
      "MeetCountry        1420270 non-null object\n",
      "MeetState          939103 non-null object\n",
      "MeetName           1420270 non-null object\n",
      "dtypes: float64(22), object(15)\n",
      "memory usage: 411.8+ MB\n"
     ]
    }
   ],
   "source": [
    "df.info()"
   ]
  },
  {
   "cell_type": "code",
   "execution_count": 6,
   "metadata": {},
   "outputs": [
    {
     "data": {
      "text/plain": [
       "Name               412574\n",
       "Sex                     2\n",
       "Event                   7\n",
       "Equipment               5\n",
       "Age                   192\n",
       "AgeClass               16\n",
       "Division             4842\n",
       "BodyweightKg        11956\n",
       "WeightClassKg         224\n",
       "Squat1Kg             1343\n",
       "Squat2Kg             1663\n",
       "Squat3Kg             1827\n",
       "Squat4Kg              799\n",
       "Best3SquatKg         1907\n",
       "Bench1Kg             1439\n",
       "Bench2Kg             1781\n",
       "Bench3Kg             1933\n",
       "Bench4Kg             1108\n",
       "Best3BenchKg         1883\n",
       "Deadlift1Kg          1140\n",
       "Deadlift2Kg          1541\n",
       "Deadlift3Kg          1734\n",
       "Deadlift4Kg          1002\n",
       "Best3DeadliftKg      1734\n",
       "TotalKg              5519\n",
       "Place                 124\n",
       "Wilks               58041\n",
       "McCulloch           59221\n",
       "Glossbrenner        55340\n",
       "IPFPoints           65117\n",
       "Tested                  1\n",
       "Country               176\n",
       "Federation            222\n",
       "Date                 5367\n",
       "MeetCountry            96\n",
       "MeetState             111\n",
       "MeetName            11599\n",
       "dtype: int64"
      ]
     },
     "execution_count": 6,
     "metadata": {},
     "output_type": "execute_result"
    }
   ],
   "source": [
    "df.nunique()"
   ]
  },
  {
   "cell_type": "code",
   "execution_count": 7,
   "metadata": {},
   "outputs": [
    {
     "name": "stdout",
     "output_type": "stream",
     "text": [
      "Percent of nulls: Name                0.00\n",
      "Sex                 0.00\n",
      "Event               0.00\n",
      "Equipment           0.00\n",
      "Age                46.76\n",
      "AgeClass           44.73\n",
      "Division            0.58\n",
      "BodyweightKg        1.18\n",
      "WeightClassKg       0.94\n",
      "Squat1Kg           76.26\n",
      "Squat2Kg           76.56\n",
      "Squat3Kg           77.23\n",
      "Squat4Kg           99.74\n",
      "Best3SquatKg       27.51\n",
      "Bench1Kg           64.86\n",
      "Bench2Kg           65.30\n",
      "Bench3Kg           66.35\n",
      "Bench4Kg           99.33\n",
      "Best3BenchKg       10.34\n",
      "Deadlift1Kg        74.44\n",
      "Deadlift2Kg        74.97\n",
      "Deadlift3Kg        76.10\n",
      "Deadlift4Kg        99.35\n",
      "Best3DeadliftKg    24.01\n",
      "TotalKg             7.74\n",
      "Place               0.00\n",
      "Wilks               8.36\n",
      "McCulloch           8.37\n",
      "Glossbrenner        8.36\n",
      "IPFPoints          10.51\n",
      "Tested             23.16\n",
      "Country            72.66\n",
      "Federation          0.00\n",
      "Date                0.00\n",
      "MeetCountry         0.00\n",
      "MeetState          33.88\n",
      "MeetName            0.00\n",
      "dtype: float64\n"
     ]
    }
   ],
   "source": [
    "length = len(df)\n",
    "print(\"Percent of nulls:\", round(df.isnull().sum() / length * 100, 2))\n"
   ]
  },
  {
   "cell_type": "code",
   "execution_count": 8,
   "metadata": {},
   "outputs": [
    {
     "data": {
      "text/plain": [
       "<matplotlib.axes._subplots.AxesSubplot at 0x1818a35c9b0>"
      ]
     },
     "execution_count": 8,
     "metadata": {},
     "output_type": "execute_result"
    },
    {
     "data": {
      "image/png": "[encoded data removed]",
      "text/plain": [
       "<Figure size 1440x720 with 4 Axes>"
      ]
     },
     "metadata": {
      "needs_background": "light"
     },
     "output_type": "display_data"
    }
   ],
   "source": [
    "fig, ax = plt.subplots(nrows=2, ncols=2, figsize=(20,10))\n",
    "sns.countplot(df['Sex'], ax=ax[0,0])\n",
    "sns.countplot(df['Tested'], ax=ax[0,1])\n",
    "sns.countplot(df['Equipment'], ax=ax[1,0])\n",
    "\n"
   ]
  },
  {
   "cell_type": "code",
   "execution_count": 9,
   "metadata": {},
   "outputs": [
    {
     "name": "stdout",
     "output_type": "stream",
     "text": [
      "Maximum bodyweight:  258.0 kg\n",
      "Minimum bodyweight:  15.1 kg\n"
     ]
    },
    {
     "data": {
      "image/png": "[encoded data removed]",
      "text/plain": [
       "<Figure size 720x720 with 1 Axes>"
      ]
     },
     "metadata": {
      "needs_background": "light"
     },
     "output_type": "display_data"
    }
   ],
   "source": [
    "df[\"BodyweightKg\"].hist(figsize=(10, 10), bins=10, xlabelsize=8, ylabelsize=8)\n",
    "print(\"Maximum bodyweight: \", df.BodyweightKg.max(),\"kg\")\n",
    "print(\"Minimum bodyweight: \", df.BodyweightKg.min(), \"kg\")"
   ]
  },
  {
   "cell_type": "code",
   "execution_count": 10,
   "metadata": {},
   "outputs": [
    {
     "name": "stdout",
     "output_type": "stream",
     "text": [
      "Maximum Age:  97.0\n",
      "Average Age:  31.498582975605757\n",
      "Minimum Age:  0.0\n"
     ]
    },
    {
     "data": {
      "image/png": "[encoded data removed]",
      "text/plain": [
       "<Figure size 720x720 with 1 Axes>"
      ]
     },
     "metadata": {
      "needs_background": "light"
     },
     "output_type": "display_data"
    }
   ],
   "source": [
    "df[\"Age\"].hist(figsize=(10, 10), bins=10, xlabelsize=8, ylabelsize=8)\n",
    "print(\"Maximum Age: \", df.Age.max())\n",
    "print(\"Average Age: \", df.Age.mean())\n",
    "print(\"Minimum Age: \", df.Age.min())"
   ]
  },
  {
   "cell_type": "code",
   "execution_count": 11,
   "metadata": {},
   "outputs": [
    {
     "name": "stdout",
     "output_type": "stream",
     "text": [
      "Biggest Squat:  575.0\n",
      "Average Squat:  174.00985284931073\n",
      "Lowest Squat:  -477.5\n"
     ]
    },
    {
     "data": {
      "image/png": "[encoded data removed]",
      "text/plain": [
       "<Figure size 720x720 with 1 Axes>"
      ]
     },
     "metadata": {
      "needs_background": "light"
     },
     "output_type": "display_data"
    }
   ],
   "source": [
    "df[\"Best3SquatKg\"].hist(figsize=(10, 10), bins=10, xlabelsize=8, ylabelsize=8)\n",
    "print(\"Biggest Squat: \", df.Best3SquatKg.max())\n",
    "print(\"Average Squat: \", df.Best3SquatKg.mean())\n",
    "print(\"Lowest Squat: \", df.Best3SquatKg.min())"
   ]
  },
  {
   "cell_type": "code",
   "execution_count": 12,
   "metadata": {},
   "outputs": [
    {
     "name": "stdout",
     "output_type": "stream",
     "text": [
      "Biggest Bench:  488.5\n",
      "Average Bench:  116.55315301694505\n",
      "Lowest Bench:  -522.5\n"
     ]
    },
    {
     "data": {
      "image/png": "[encoded data removed]",
      "text/plain": [
       "<Figure size 720x720 with 1 Axes>"
      ]
     },
     "metadata": {
      "needs_background": "light"
     },
     "output_type": "display_data"
    }
   ],
   "source": [
    "df[\"Best3BenchKg\"].hist(figsize=(10, 10), bins=10, xlabelsize=8, ylabelsize=8)\n",
    "print(\"Biggest Bench: \", df.Best3BenchKg.max())\n",
    "print(\"Average Bench: \", df.Best3BenchKg.mean())\n",
    "print(\"Lowest Bench: \", df.Best3BenchKg.min())"
   ]
  },
  {
   "cell_type": "code",
   "execution_count": 13,
   "metadata": {},
   "outputs": [
    {
     "name": "stdout",
     "output_type": "stream",
     "text": [
      "Biggest Deadlift:  585.0\n",
      "Average Deadlift:  187.27069592303323\n",
      "Lowest Deadlift:  -410.0\n"
     ]
    },
    {
     "data": {
      "image/png": "[encoded data removed]",
      "text/plain": [
       "<Figure size 720x720 with 1 Axes>"
      ]
     },
     "metadata": {
      "needs_background": "light"
     },
     "output_type": "display_data"
    }
   ],
   "source": [
    "df[\"Best3DeadliftKg\"].hist(figsize=(10, 10), bins=10, xlabelsize=8, ylabelsize=8)\n",
    "print(\"Biggest Deadlift: \", df.Best3DeadliftKg.max())\n",
    "print(\"Average Deadlift: \", df.Best3DeadliftKg.mean())\n",
    "print(\"Lowest Deadlift: \", df.Best3DeadliftKg.min())"
   ]
  },
  {
   "cell_type": "code",
   "execution_count": 14,
   "metadata": {},
   "outputs": [
    {
     "data": {
      "text/plain": [
       "(468076, 37)"
      ]
     },
     "execution_count": 14,
     "metadata": {},
     "output_type": "execute_result"
    }
   ],
   "source": [
    "clean_df = df[(df['Best3SquatKg'] > 0)&(df['Best3BenchKg']>0)&(df['Best3DeadliftKg']> 0)&(df['Age']> 0)&(df['BodyweightKg'] > 0)]\n",
    "\n",
    "clean_df.shape\n",
    "              "
   ]
  },
  {
   "cell_type": "code",
   "execution_count": 15,
   "metadata": {},
   "outputs": [
    {
     "data": {
      "text/plain": [
       "Name                    0\n",
       "Sex                     0\n",
       "Event                   0\n",
       "Equipment               0\n",
       "Age                     0\n",
       "AgeClass               86\n",
       "Division             2959\n",
       "BodyweightKg            0\n",
       "WeightClassKg        1092\n",
       "Squat1Kg           206517\n",
       "Squat2Kg           209365\n",
       "Squat3Kg           216142\n",
       "Squat4Kg           465096\n",
       "Best3SquatKg            0\n",
       "Bench1Kg           206553\n",
       "Bench2Kg           208868\n",
       "Bench3Kg           216205\n",
       "Bench4Kg           465524\n",
       "Best3BenchKg            0\n",
       "Deadlift1Kg        206373\n",
       "Deadlift2Kg        210282\n",
       "Deadlift3Kg        220991\n",
       "Deadlift4Kg        463638\n",
       "Best3DeadliftKg         0\n",
       "TotalKg               789\n",
       "Place                   0\n",
       "Wilks                 789\n",
       "McCulloch             875\n",
       "Glossbrenner          789\n",
       "IPFPoints            1533\n",
       "Tested             136504\n",
       "Country            292919\n",
       "Federation              0\n",
       "Date                    0\n",
       "MeetCountry             0\n",
       "MeetState          193888\n",
       "MeetName                0\n",
       "dtype: int64"
      ]
     },
     "execution_count": 15,
     "metadata": {},
     "output_type": "execute_result"
    }
   ],
   "source": [
    "clean_df.isnull().sum()"
   ]
  },
  {
   "cell_type": "code",
   "execution_count": 16,
   "metadata": {},
   "outputs": [],
   "source": [
    "clean_df['Sex'] = np.where(clean_df['Sex']=='M',1,0)\n"
   ]
  },
  {
   "cell_type": "code",
   "execution_count": 17,
   "metadata": {},
   "outputs": [],
   "source": [
    "#Split data into training and testing\n",
    "\n",
    "from sklearn.model_selection import train_test_split\n",
    "\n",
    "train, test = train_test_split(clean_df, test_size=0.2)\n",
    "\n",
    "y_train = train['Best3BenchKg']\n",
    "y_test = test['Best3BenchKg']\n",
    "\n",
    "X_train = np.array(train[['Age', 'BodyweightKg', 'Sex']])\n",
    "X_test = np.array(test[['Age', 'BodyweightKg', 'Sex']])"
   ]
  },
  {
   "cell_type": "code",
   "execution_count": 18,
   "metadata": {},
   "outputs": [],
   "source": [
    "# Import machine learning modules\n",
    "\n",
    "from sklearn.model_selection import train_test_split\n",
    "from sklearn import model_selection, tree, preprocessing, metrics, linear_model\n",
    "from sklearn.svm import SVR\n",
    "from sklearn.tree import DecisionTreeRegressor\n",
    "from sklearn.ensemble import RandomForestRegressor\n",
    "from sklearn.linear_model import LinearRegression \n",
    "\n",
    "\n",
    "# Function that runs the requested algorithm and returns the accuracy metrics\n",
    "def fit_ml_algo(algo, X_train, y_train, cv):\n",
    "    \n",
    "    # One Pass\n",
    "    model = algo.fit(X_train, y_train)\n",
    "    score = round(model.score(X_train, y_train) * 100, 2)\n",
    "    \n",
    "    # Cross Validation \n",
    "    train_pred = model_selection.cross_val_predict(algo, \n",
    "                                                  X_train, \n",
    "                                                  y_train, \n",
    "                                                  cv=cv, \n",
    "                                                  n_jobs = -1)\n",
    "    \n",
    "    return train_pred, score\n",
    "\n",
    "\n",
    "\n",
    "# Random Forest Regressor ----------------------------------------------------------------\n",
    "\n",
    "train_pred_log, acc_rfor = fit_ml_algo(RandomForestRegressor(), \n",
    "                                                               X_train, \n",
    "                                                               y_train, \n",
    "                                                                    10)\n",
    "\n"
   ]
  },
  {
   "cell_type": "code",
   "execution_count": 19,
   "metadata": {},
   "outputs": [],
   "source": [
    "# Linear Regression ---------------------------------------------------------------------\n",
    "\n",
    "train_pred_log, acc_lin = fit_ml_algo(LinearRegression(), \n",
    "                                                               X_train, \n",
    "                                                               y_train, \n",
    "                                                                    10)\n",
    "\n",
    "\n",
    "\n",
    "\n",
    "\n"
   ]
  },
  {
   "cell_type": "code",
   "execution_count": 20,
   "metadata": {},
   "outputs": [],
   "source": [
    "# Decision Tree Regressor --------------------------------------------------------------------\n",
    "\n",
    "train_pred_knn, acc_dtr = fit_ml_algo(DecisionTreeRegressor(), \n",
    "                                                  X_train, \n",
    "                                                  y_train, \n",
    "                                                  10)"
   ]
  },
  {
   "cell_type": "code",
   "execution_count": 22,
   "metadata": {},
   "outputs": [
    {
     "name": "stdout",
     "output_type": "stream",
     "text": [
      "---Accuracy Scores---\n"
     ]
    },
    {
     "data": {
      "text/html": [
       "<div>\n",
       "<style scoped>\n",
       "    .dataframe tbody tr th:only-of-type {\n",
       "        vertical-align: middle;\n",
       "    }\n",
       "\n",
       "    .dataframe tbody tr th {\n",
       "        vertical-align: top;\n",
       "    }\n",
       "\n",
       "    .dataframe thead th {\n",
       "        text-align: right;\n",
       "    }\n",
       "</style>\n",
       "<table border=\"1\" class=\"dataframe\">\n",
       "  <thead>\n",
       "    <tr style=\"text-align: right;\">\n",
       "      <th></th>\n",
       "      <th>Model</th>\n",
       "      <th>Score</th>\n",
       "    </tr>\n",
       "  </thead>\n",
       "  <tbody>\n",
       "    <tr>\n",
       "      <th>2</th>\n",
       "      <td>DecisionTreeRegressor</td>\n",
       "      <td>83.75</td>\n",
       "    </tr>\n",
       "    <tr>\n",
       "      <th>0</th>\n",
       "      <td>RandomForestRegressor</td>\n",
       "      <td>81.17</td>\n",
       "    </tr>\n",
       "    <tr>\n",
       "      <th>1</th>\n",
       "      <td>LinearRegression</td>\n",
       "      <td>58.72</td>\n",
       "    </tr>\n",
       "  </tbody>\n",
       "</table>\n",
       "</div>"
      ],
      "text/plain": [
       "                   Model  Score\n",
       "2  DecisionTreeRegressor  83.75\n",
       "0  RandomForestRegressor  81.17\n",
       "1       LinearRegression  58.72"
      ]
     },
     "execution_count": 22,
     "metadata": {},
     "output_type": "execute_result"
    }
   ],
   "source": [
    "# Accuracy Scores --------------------------------------------------------------------------\n",
    "\n",
    "models = pd.DataFrame({\n",
    "    'Model': ['RandomForestRegressor', 'LinearRegression', 'DecisionTreeRegressor'],\n",
    "    'Score': [\n",
    "        acc_rfor,\n",
    "        acc_lin, \n",
    "        acc_dtr\n",
    "    ]})\n",
    "print(\"---Accuracy Scores---\")\n",
    "models.sort_values(by='Score', ascending=False)"
   ]
  },
  {
   "cell_type": "code",
   "execution_count": 26,
   "metadata": {},
   "outputs": [
    {
     "name": "stdout",
     "output_type": "stream",
     "text": [
      "Bench Press Prediction (for trained powerlifter):  135.0 Kg\n",
      "The accuracy score is:  83.75 %\n"
     ]
    }
   ],
   "source": [
    "# function to predict credit card monthly spending\n",
    "\n",
    "dtr = DecisionTreeRegressor()\n",
    "model = dtr.fit(X_train, y_train)\n",
    "\n",
    "def bench_press_predict(Age, BodyweightKg, Sex):\n",
    "    \n",
    "    print(\"Bench Press Prediction (for trained powerlifter): \", round(float(model.predict([[Age, BodyweightKg, Sex]])),2),\"Kg\")\n",
    "\n",
    "#Predict test\n",
    "\n",
    "bench_press_predict(23, 105, 1)\n",
    "print(\"The accuracy score is: \", round(model.score(X_train, y_train) * 100, 2),\"%\")"
   ]
  }
 ],
 "metadata": {
  "kernelspec": {
   "display_name": "Python 3",
   "language": "python",
   "name": "python3"
  },
  "language_info": {
   "codemirror_mode": {
    "name": "ipython",
    "version": 3
   },
   "file_extension": ".py",
   "mimetype": "text/x-python",
   "name": "python",
   "nbconvert_exporter": "python",
   "pygments_lexer": "ipython3",
   "version": "3.7.3"
  }
 },
 "nbformat": 4,
 "nbformat_minor": 2
}
