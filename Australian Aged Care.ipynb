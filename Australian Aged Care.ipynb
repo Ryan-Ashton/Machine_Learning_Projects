{
 "cells": [
  {
   "cell_type": "markdown",
   "metadata": {},
   "source": [
    "## Predicting how much funding an Aged Care facility will get in Australia\n",
    "\n",
    "Data is sourced from an Australian Government website: https://www.gen-agedcaredata.gov.au\n",
    "\n",
    "This data is inconsistent across the years of release, which means that a bit of data cleaning was required to get it in the same format across the years. I had to treat each year seperately and then concatenate the dataframes together to create a main dataset.\n",
    "\n",
    "This model will predict an approximation of how much funding an Aged Care facility will receive based on the features identified from exploratory data analysis below."
   ]
  },
  {
   "cell_type": "code",
   "execution_count": 1,
   "metadata": {},
   "outputs": [],
   "source": [
    "#Load libraries\n",
    "import pandas as pd\n",
    "import numpy as np\n",
    "import matplotlib.pyplot as plt\n",
    "import seaborn as sns\n",
    "import os\n",
    "import warnings\n",
    "warnings.simplefilter('ignore')\n"
   ]
  },
  {
   "cell_type": "markdown",
   "metadata": {},
   "source": [
    "## General cleaning of data to get into a consistent form"
   ]
  },
  {
   "cell_type": "code",
   "execution_count": 2,
   "metadata": {},
   "outputs": [
    {
     "data": {
      "text/plain": [
       "Index(['Service Name', 'Physical Address Suburb', 'State',\n",
       "       'Physical Address Post Code', 'Aged Care Planning Region Name',\n",
       "       'Statistical Local Area (SLA) Name', 'Care Type',\n",
       "       'Community Care Places', 'Residential High Care Places',\n",
       "       'Residential Low Care Places', 'Unnamed: 10', 'Transition Care Places',\n",
       "       'Approved Provider', 'Organisation Type',\n",
       "       'Australian Standard Geographical Classification  Remoteness Area',\n",
       "       'Australian Funding', 'Year'],\n",
       "      dtype='object')"
      ]
     },
     "execution_count": 2,
     "metadata": {},
     "output_type": "execute_result"
    }
   ],
   "source": [
    "# Get the data\n",
    "df1 = pd.read_excel('AgedCareGuide09to16.xlsx', sheet_name = \"2009\", skiprows=1)\n",
    "df1['Year'] = 2009\n",
    "df1.rename(columns={'Australian Funding \\n2008-2009': 'Australian Funding',\n",
    "                   'Aged Care Planning Region': 'Aged Care Planning Region Name',\n",
    "                   'Community Care Places (includes CACP, EACH and EACH Dementia)': 'Community Care Places',\n",
    "                   'Care Type\\nResidential = Residential Aged Care\\nCACP = Community Aged Care Package\\nEACH = Extended Aged Care at Home': 'Care Type',\n",
    "       'Community Care Places (includes CACP, EACH and EACH Dementia)':'Community Care Places',\n",
    "                   'Postcode':'Physical Address Post Code',\n",
    "                   'Suburb': 'Physical Address Suburb'}, inplace=True)\n",
    "df1.columns"
   ]
  },
  {
   "cell_type": "code",
   "execution_count": 3,
   "metadata": {},
   "outputs": [
    {
     "data": {
      "text/plain": [
       "Index(['Service Name', 'Physical Address Suburb', 'State',\n",
       "       'Physical Address Post Code', 'Aged Care Planning Region Name',\n",
       "       'Statistical Local Area (SLA) Name', 'Care Type',\n",
       "       'Community Care Places', 'Residential High Care Places',\n",
       "       'Residential Low Care Places', 'Unnamed: 10', 'Transition Care Places',\n",
       "       'Approved Provider', 'Organisation Type', 'Remoteness Area',\n",
       "       'Australian Funding', 'Year'],\n",
       "      dtype='object')"
      ]
     },
     "execution_count": 3,
     "metadata": {},
     "output_type": "execute_result"
    }
   ],
   "source": [
    "df2 = pd.read_excel('AgedCareGuide09to16.xlsx', sheet_name = \"2010\", skiprows=1)\n",
    "df2.rename(columns={'Australian Funding \\n2009-2010 ( ATSI and Innovative Care Funding is not available ) ': 'Australian Funding',\n",
    "                   'Remoteness Area\\n ( ASGC 2006 )      ':'Remoteness Area',\n",
    "                    'Statistical Local Area (SLA) Name ( ASGC 2006 )' : 'Statistical Local Area (SLA) Name',\n",
    "                   'Community Care Places (includes CACP, EACH and EACH Dementia)': 'Community Care Places',\n",
    "                   'Care Type\\nResidential = Residential Aged Care\\nCACP = Community Aged Care Package\\nEACH = Extended Aged Care at Home\\nMPS = Multi-Purpose Services  \\nATSI = National Aboriginal and Torres Strait Islander Aged Care Program': 'Care Type',\n",
    "                   'Postcode':'Physical Address Post Code',\n",
    "                   'Suburb': 'Physical Address Suburb'},\n",
    "           inplace=True)\n",
    "df2['Year'] = 2010\n",
    "df2.columns\n",
    "\n"
   ]
  },
  {
   "cell_type": "code",
   "execution_count": 4,
   "metadata": {},
   "outputs": [
    {
     "data": {
      "text/plain": [
       "Index(['Service Name', 'Physical Address Suburb', 'State',\n",
       "       'Physical Address Post Code', 'Aged Care Planning Region Name',\n",
       "       'Statistical Local Area (SLA) Name', 'Care Type',\n",
       "       'Community Care Places', 'Residential High Care Places',\n",
       "       'Residential Low Care Places', 'Unnamed: 10', 'Transition Care Places',\n",
       "       'Approved Provider', 'Organisation Type', 'Remoteness Area',\n",
       "       'Australian Funding', 'Year'],\n",
       "      dtype='object')"
      ]
     },
     "execution_count": 4,
     "metadata": {},
     "output_type": "execute_result"
    }
   ],
   "source": [
    "df3 = pd.read_excel('AgedCareGuide09to16.xlsx', sheet_name = \"2011\", skiprows=1)\n",
    "df3['Year'] = 2011\n",
    "df3.rename(columns={'Australian Funding \\n2010-2011 ( ATSI and Innovative Care Funding is not available ) ': 'Australian Funding',\n",
    "                   'Remoteness Area\\n ( ASGC 2006 )      ':'Remoteness Area',\n",
    "                    'Statistical Local Area (SLA) Name ( ASGC 2006 )' : 'Statistical Local Area (SLA) Name',\n",
    "                   'Care Type\\nResidential = Residential Aged Care\\nCACP = Community Aged Care Package\\nEACH = Extended Aged Care at Home\\nMPS = Multi-Purpose Services  \\nATSI = National Aboriginal and Torres Strait Islander Aged Care Program  CDC = Consumer Directed Care':'Care Type',\n",
    "                   'Community Care Places (includes CACP, EACH and EACH Dementia)': 'Community Care Places',\n",
    "                   'Postcode':'Physical Address Post Code',\n",
    "                   'Suburb': 'Physical Address Suburb'},\n",
    "           inplace=True)\n",
    "df3.columns"
   ]
  },
  {
   "cell_type": "code",
   "execution_count": 5,
   "metadata": {},
   "outputs": [
    {
     "data": {
      "text/plain": [
       "Index(['Service Name', 'Physical Address Suburb', 'State',\n",
       "       'Physical Address Post Code', 'Aged Care Planning Region Name',\n",
       "       'Care Type', 'Community Care Places', 'Residential High Care Places',\n",
       "       'Residential Low Care Places', 'Unnamed: 9', 'Transition Care Places',\n",
       "       'Approved Provider', 'Organisation Type', 'Remoteness Area',\n",
       "       'Australian Funding', 'Year'],\n",
       "      dtype='object')"
      ]
     },
     "execution_count": 5,
     "metadata": {},
     "output_type": "execute_result"
    }
   ],
   "source": [
    "df4 = pd.read_excel('AgedCareGuide09to16.xlsx', sheet_name = \"2012\", skiprows=1)\n",
    "df4['Year'] = 2012\n",
    "df4.rename(columns={'Australian Funding \\n2011-2012': 'Australian Funding',\n",
    "                   'Remoteness Area\\n ( ASGC 2006 )      ':'Remoteness Area',\n",
    "                   'Care Type\\nResidential = Residential Aged Care\\nCACP = CACP Aged Care Package\\nEACH = EACH\\nMPS = MPSs  \\nATSI = ATSI CDC = Consumer Directed Care, Innovative Care':'Care Type',\n",
    "                   'Community Care Places (includes CACP, EACH and EACH Dementia)': 'Community Care Places',\n",
    "                   'Postcode':'Physical Address Post Code',\n",
    "                   'Organisational Type':'Organisation Type',\n",
    "                   'Suburb': 'Physical Address Suburb'},\n",
    "           inplace=True)\n",
    "df4.columns"
   ]
  },
  {
   "cell_type": "code",
   "execution_count": 6,
   "metadata": {},
   "outputs": [
    {
     "data": {
      "text/plain": [
       "Index(['Service Name', 'Physical Address Suburb', 'Physical Address State',\n",
       "       'Physical Address Post Code', 'Physical Address Line 1',\n",
       "       'Physical Address Line 2', 'Unnamed: 6', 'Unnamed: 7', 'Unnamed: 8',\n",
       "       'Aged Care Planning Region Name', 'Care Type', 'Community Care Places',\n",
       "       'Residential High Care Places', 'Residential Low Care Places',\n",
       "       'Unnamed: 14', 'Transition Care Places', 'Provider Name',\n",
       "       'Organisation Type', 'ABS Remoteness', 'Year'],\n",
       "      dtype='object')"
      ]
     },
     "execution_count": 6,
     "metadata": {},
     "output_type": "execute_result"
    }
   ],
   "source": [
    "df5 = pd.read_excel('AgedCareGuide09to16.xlsx', sheet_name = \"2013\", skiprows=1)\n",
    "df5['Year'] = 2013\n",
    "df5.rename(columns={'Aged Care Planning Region (ACPR)':'Aged Care Planning Region Name',\n",
    "                   'Suburb': 'Physical Address Suburb'},\n",
    "           inplace=True)\n",
    "\n",
    "df5.columns"
   ]
  },
  {
   "cell_type": "code",
   "execution_count": 7,
   "metadata": {},
   "outputs": [
    {
     "data": {
      "text/plain": [
       "Index(['Service name', 'Physical Address Line 1', 'Physical Address Line 2',\n",
       "       'Physical Address Suburb', 'Physical Address State',\n",
       "       'Physical Address Post Code', 'Aged Care Planning Region Name',\n",
       "       'Care Type', 'Home Care Low Places', 'Home Care High Places',\n",
       "       'Unnamed: 10', 'Residential Low Care Places',\n",
       "       'Residential High Care Places', 'Unnamed: 13', 'Transition Care Places',\n",
       "       'Provider Name', 'Organisation Type', 'ABS Remoteness',\n",
       "       'Australian Funding', 'Year'],\n",
       "      dtype='object')"
      ]
     },
     "execution_count": 7,
     "metadata": {},
     "output_type": "execute_result"
    }
   ],
   "source": [
    "df6 = pd.read_excel('AgedCareGuide09to16.xlsx', sheet_name = \"2014\", skiprows=1)\n",
    "df6['Year'] = 2014\n",
    "df6.rename(columns={'2013-14 Australian Government Funding': 'Australian Funding',\n",
    "                   '2013 Aged Care Planning Region (ACPR)':'Aged Care Planning Region Name'},\n",
    "           inplace=True)\n",
    "df6.columns"
   ]
  },
  {
   "cell_type": "code",
   "execution_count": 8,
   "metadata": {},
   "outputs": [
    {
     "data": {
      "text/plain": [
       "Index(['Service name', 'Physical Address Line 1', 'Physical Address Line 2',\n",
       "       'Physical Address Suburb', 'Physical Address State',\n",
       "       'Physical Address Post Code', 'Aged Care Planning Region Name',\n",
       "       'Care Type', 'Residential Places', 'Home Care Low Places',\n",
       "       'Home Care High Places', 'Unnamed: 11', 'Transition Care Places',\n",
       "       'Provider Name', 'Organisation Type', 'ABS Remoteness',\n",
       "       'Australian Funding', 'Year'],\n",
       "      dtype='object')"
      ]
     },
     "execution_count": 8,
     "metadata": {},
     "output_type": "execute_result"
    }
   ],
   "source": [
    "df7 = pd.read_excel('AgedCareGuide09to16.xlsx', sheet_name = \"2015\", skiprows=1)\n",
    "df7['Year'] = 2015\n",
    "df7.rename(columns={'2014-15 Australian Government Funding': 'Australian Funding',\n",
    "                   '2015 Aged Care Planning Region (ACPR)':'Aged Care Planning Region Name'},\n",
    "           inplace=True)\n",
    "df7.columns"
   ]
  },
  {
   "cell_type": "code",
   "execution_count": 9,
   "metadata": {},
   "outputs": [
    {
     "data": {
      "text/plain": [
       "Index(['Service name', 'Physical Address Line 1', 'Physical Address Line 2',\n",
       "       'Physical Address Suburb', 'Physical Address State',\n",
       "       'Physical Address Post Code', 'Aged Care Planning Region Name',\n",
       "       'Care Type', 'Residential Places', 'Home Care Low Places',\n",
       "       'Home Care High Places', 'Unnamed: 11', 'Transition Care Places',\n",
       "       'Provider Name', 'Organisation Type', 'ABS Remoteness',\n",
       "       'Australian Funding', 'Unnamed: 17', 'Unnamed: 18', 'Unnamed: 19',\n",
       "       'Unnamed: 20', 'Unnamed: 21', 'Unnamed: 22', 'Unnamed: 23',\n",
       "       'Group Name', 'Organisational Type', 'Number of Packages', 'Year'],\n",
       "      dtype='object')"
      ]
     },
     "execution_count": 9,
     "metadata": {},
     "output_type": "execute_result"
    }
   ],
   "source": [
    "df8 = pd.read_excel('AgedCareGuide09to16.xlsx', sheet_name = \"2016\", skiprows=1)\n",
    "df8['Year'] = 2016\n",
    "df8.rename(columns={'2015-16 Australian Government Funding': 'Australian Funding',\n",
    "                   '2015 Aged Care Planning Region (ACPR)':'Aged Care Planning Region Name'},\n",
    "           inplace=True)\n",
    "df8.columns"
   ]
  },
  {
   "cell_type": "code",
   "execution_count": 10,
   "metadata": {},
   "outputs": [
    {
     "data": {
      "text/plain": [
       "Index(['Service name', 'Physical Address Line 1', 'Physical Address Line 2',\n",
       "       'Physical Address Suburb', 'Physical Address State',\n",
       "       'Physical Address Post Code', 'Aged Care Planning Region Name',\n",
       "       'Care Type', 'Residential Places', 'Home Care Places',\n",
       "       'Restorative Care Places', 'Provider Name', 'Organisation Type',\n",
       "       'ABS Remoteness', 'Latitude', 'Longitude', 'Australian Funding',\n",
       "       'Unnamed: 17', 'Unnamed: 18', 'Unnamed: 19', 'Unnamed: 20',\n",
       "       'Unnamed: 21', 'Year'],\n",
       "      dtype='object')"
      ]
     },
     "execution_count": 10,
     "metadata": {},
     "output_type": "execute_result"
    }
   ],
   "source": [
    "df9 = pd.read_excel('AgedCareGuide09to16.xlsx', sheet_name = \"2017\", skiprows=1)\n",
    "df9['Year'] = 2017\n",
    "df9.rename(columns={'2016-17 Australian Government Funding': 'Australian Funding',\n",
    "                   '2015 Aged Care Planning Region (ACPR)':'Aged Care Planning Region Name'},\n",
    "           inplace=True)\n",
    "df9.columns"
   ]
  },
  {
   "cell_type": "markdown",
   "metadata": {},
   "source": [
    "## Concat the dataframes together and choose consistent features."
   ]
  },
  {
   "cell_type": "code",
   "execution_count": 11,
   "metadata": {},
   "outputs": [
    {
     "data": {
      "text/plain": [
       "Index(['ABS Remoteness', 'Aged Care Planning Region Name', 'Approved Provider',\n",
       "       'Australian Funding',\n",
       "       'Australian Standard Geographical Classification  Remoteness Area',\n",
       "       'Care Type', 'Community Care Places', 'Group Name',\n",
       "       'Home Care High Places', 'Home Care Low Places', 'Home Care Places',\n",
       "       'Latitude', 'Longitude', 'Number of Packages', 'Organisation Type',\n",
       "       'Organisational Type', 'Physical Address Line 1',\n",
       "       'Physical Address Line 2', 'Physical Address Post Code',\n",
       "       'Physical Address State', 'Physical Address Suburb', 'Provider Name',\n",
       "       'Remoteness Area', 'Residential High Care Places',\n",
       "       'Residential Low Care Places', 'Residential Places',\n",
       "       'Restorative Care Places', 'Service Name', 'Service name', 'State',\n",
       "       'Statistical Local Area (SLA) Name', 'Transition Care Places',\n",
       "       'Unnamed: 10', 'Unnamed: 11', 'Unnamed: 13', 'Unnamed: 14',\n",
       "       'Unnamed: 17', 'Unnamed: 18', 'Unnamed: 19', 'Unnamed: 20',\n",
       "       'Unnamed: 21', 'Unnamed: 22', 'Unnamed: 23', 'Unnamed: 6', 'Unnamed: 7',\n",
       "       'Unnamed: 8', 'Unnamed: 9', 'Year'],\n",
       "      dtype='object')"
      ]
     },
     "execution_count": 11,
     "metadata": {},
     "output_type": "execute_result"
    }
   ],
   "source": [
    "df = pd.concat([df1, df2, df3, df4, df5, df6, df7, df8, df9])\n",
    "df.fillna(0, inplace=True)\n",
    "df.columns"
   ]
  },
  {
   "cell_type": "code",
   "execution_count": 12,
   "metadata": {},
   "outputs": [
    {
     "data": {
      "text/html": [
       "<div>\n",
       "<style scoped>\n",
       "    .dataframe tbody tr th:only-of-type {\n",
       "        vertical-align: middle;\n",
       "    }\n",
       "\n",
       "    .dataframe tbody tr th {\n",
       "        vertical-align: top;\n",
       "    }\n",
       "\n",
       "    .dataframe thead th {\n",
       "        text-align: right;\n",
       "    }\n",
       "</style>\n",
       "<table border=\"1\" class=\"dataframe\">\n",
       "  <thead>\n",
       "    <tr style=\"text-align: right;\">\n",
       "      <th></th>\n",
       "      <th>Year</th>\n",
       "      <th>Aged Care Planning Region Name</th>\n",
       "      <th>Care Type</th>\n",
       "      <th>Home Care High Places</th>\n",
       "      <th>Home Care Low Places</th>\n",
       "      <th>Home Care Places</th>\n",
       "      <th>Organisation Type</th>\n",
       "      <th>Physical Address Post Code</th>\n",
       "      <th>Physical Address Suburb</th>\n",
       "      <th>Residential High Care Places</th>\n",
       "      <th>Residential Low Care Places</th>\n",
       "      <th>Residential Places</th>\n",
       "      <th>Provider Name</th>\n",
       "      <th>Australian Funding</th>\n",
       "    </tr>\n",
       "  </thead>\n",
       "  <tbody>\n",
       "    <tr>\n",
       "      <th>0</th>\n",
       "      <td>2009</td>\n",
       "      <td>ACT</td>\n",
       "      <td>Transition Care</td>\n",
       "      <td>0.0</td>\n",
       "      <td>0.0</td>\n",
       "      <td>0.0</td>\n",
       "      <td>State Government</td>\n",
       "      <td>2600.0</td>\n",
       "      <td>CANBERRA</td>\n",
       "      <td>0.0</td>\n",
       "      <td>0.0</td>\n",
       "      <td>0.0</td>\n",
       "      <td>0</td>\n",
       "      <td>1.28145e+06</td>\n",
       "    </tr>\n",
       "    <tr>\n",
       "      <th>1</th>\n",
       "      <td>2009</td>\n",
       "      <td>ACT</td>\n",
       "      <td>Residential</td>\n",
       "      <td>0.0</td>\n",
       "      <td>0.0</td>\n",
       "      <td>0.0</td>\n",
       "      <td>Community Based</td>\n",
       "      <td>2611.0</td>\n",
       "      <td>STIRLING</td>\n",
       "      <td>8.0</td>\n",
       "      <td>34.0</td>\n",
       "      <td>0.0</td>\n",
       "      <td>0</td>\n",
       "      <td>1.71691e+06</td>\n",
       "    </tr>\n",
       "    <tr>\n",
       "      <th>2</th>\n",
       "      <td>2009</td>\n",
       "      <td>ACT</td>\n",
       "      <td>EACH</td>\n",
       "      <td>0.0</td>\n",
       "      <td>0.0</td>\n",
       "      <td>0.0</td>\n",
       "      <td>Religious</td>\n",
       "      <td>2614.0</td>\n",
       "      <td>PAGE</td>\n",
       "      <td>0.0</td>\n",
       "      <td>0.0</td>\n",
       "      <td>0.0</td>\n",
       "      <td>0</td>\n",
       "      <td>80615</td>\n",
       "    </tr>\n",
       "    <tr>\n",
       "      <th>3</th>\n",
       "      <td>2009</td>\n",
       "      <td>ACT</td>\n",
       "      <td>Residential</td>\n",
       "      <td>0.0</td>\n",
       "      <td>0.0</td>\n",
       "      <td>0.0</td>\n",
       "      <td>Charitable</td>\n",
       "      <td>2603.0</td>\n",
       "      <td>RED HILL</td>\n",
       "      <td>2.0</td>\n",
       "      <td>66.0</td>\n",
       "      <td>0.0</td>\n",
       "      <td>0</td>\n",
       "      <td>1.49435e+06</td>\n",
       "    </tr>\n",
       "    <tr>\n",
       "      <th>4</th>\n",
       "      <td>2009</td>\n",
       "      <td>ACT</td>\n",
       "      <td>Residential</td>\n",
       "      <td>0.0</td>\n",
       "      <td>0.0</td>\n",
       "      <td>0.0</td>\n",
       "      <td>Charitable</td>\n",
       "      <td>2603.0</td>\n",
       "      <td>RED HILL</td>\n",
       "      <td>105.0</td>\n",
       "      <td>0.0</td>\n",
       "      <td>0.0</td>\n",
       "      <td>0</td>\n",
       "      <td>4.91989e+06</td>\n",
       "    </tr>\n",
       "  </tbody>\n",
       "</table>\n",
       "</div>"
      ],
      "text/plain": [
       "   Year Aged Care Planning Region Name        Care Type  \\\n",
       "0  2009                            ACT  Transition Care   \n",
       "1  2009                            ACT      Residential   \n",
       "2  2009                            ACT             EACH   \n",
       "3  2009                            ACT      Residential   \n",
       "4  2009                            ACT      Residential   \n",
       "\n",
       "   Home Care High Places  Home Care Low Places  Home Care Places  \\\n",
       "0                    0.0                   0.0               0.0   \n",
       "1                    0.0                   0.0               0.0   \n",
       "2                    0.0                   0.0               0.0   \n",
       "3                    0.0                   0.0               0.0   \n",
       "4                    0.0                   0.0               0.0   \n",
       "\n",
       "  Organisation Type  Physical Address Post Code Physical Address Suburb  \\\n",
       "0  State Government                      2600.0                CANBERRA   \n",
       "1   Community Based                      2611.0                STIRLING   \n",
       "2         Religious                      2614.0                    PAGE   \n",
       "3        Charitable                      2603.0                RED HILL   \n",
       "4        Charitable                      2603.0                RED HILL   \n",
       "\n",
       "   Residential High Care Places  Residential Low Care Places  \\\n",
       "0                           0.0                          0.0   \n",
       "1                           8.0                         34.0   \n",
       "2                           0.0                          0.0   \n",
       "3                           2.0                         66.0   \n",
       "4                         105.0                          0.0   \n",
       "\n",
       "   Residential Places Provider Name Australian Funding  \n",
       "0                 0.0             0        1.28145e+06  \n",
       "1                 0.0             0        1.71691e+06  \n",
       "2                 0.0             0              80615  \n",
       "3                 0.0             0        1.49435e+06  \n",
       "4                 0.0             0        4.91989e+06  "
      ]
     },
     "execution_count": 12,
     "metadata": {},
     "output_type": "execute_result"
    }
   ],
   "source": [
    "df = df[['Year', 'Aged Care Planning Region Name', 'Care Type', 'Home Care High Places', 'Home Care Low Places', 'Home Care Places',\n",
    "        'Organisation Type', 'Physical Address Post Code', 'Physical Address Suburb', 'Residential High Care Places',\n",
    "       'Residential Low Care Places', 'Residential Places','Provider Name', 'Australian Funding' ]]\n",
    "df.head()"
   ]
  },
  {
   "cell_type": "code",
   "execution_count": 13,
   "metadata": {},
   "outputs": [],
   "source": [
    "df['Australian Funding'] = df['Australian Funding'].astype(str)\n",
    "df['Australian Funding'] = df['Australian Funding'].str.strip()\n",
    "df['Australian Funding'] = df['Australian Funding'].str.replace('n.a.', '0', regex=False)\n",
    "df['Australian Funding'] = pd.to_numeric(df['Australian Funding'], errors = 'coerce')"
   ]
  },
  {
   "cell_type": "code",
   "execution_count": 14,
   "metadata": {},
   "outputs": [
    {
     "data": {
      "text/plain": [
       "(45958, 14)"
      ]
     },
     "execution_count": 14,
     "metadata": {},
     "output_type": "execute_result"
    }
   ],
   "source": [
    "df.shape"
   ]
  },
  {
   "cell_type": "markdown",
   "metadata": {},
   "source": [
    "Where is there missing values?"
   ]
  },
  {
   "cell_type": "code",
   "execution_count": 15,
   "metadata": {},
   "outputs": [
    {
     "data": {
      "image/png": "[encoded data removed]",
      "text/plain": [
       "<Figure size 864x216 with 1 Axes>"
      ]
     },
     "metadata": {
      "needs_background": "light"
     },
     "output_type": "display_data"
    }
   ],
   "source": [
    "missing_values = df.isnull().sum(axis=0).reset_index()\n",
    "missing_values.columns = ['column_name', 'missing_count']\n",
    "missing_values = missing_values.loc[missing_values['missing_count']>0]\n",
    "missing_values = missing_values.sort_values(by='missing_count')\n",
    "\n",
    "ind = np.arange(missing_values.shape[0])\n",
    "width = 0.1\n",
    "fig, ax = plt.subplots(figsize=(12,3))\n",
    "rects = ax.barh(ind, missing_values.missing_count.values, color='b')\n",
    "ax.set_yticks(ind)\n",
    "ax.set_yticklabels(missing_values.column_name.values, rotation='horizontal')\n",
    "ax.set_xlabel(\"Missing Observations Count\")\n",
    "ax.set_title(\"Missing Observations Count - Numeric Features\")\n",
    "plt.show()"
   ]
  },
  {
   "cell_type": "code",
   "execution_count": 16,
   "metadata": {},
   "outputs": [
    {
     "data": {
      "text/plain": [
       "<matplotlib.axes._subplots.AxesSubplot at 0x16d37381fd0>"
      ]
     },
     "execution_count": 16,
     "metadata": {},
     "output_type": "execute_result"
    },
    {
     "data": {
      "image/png": "[encoded data removed]",
      "text/plain": [
       "<Figure size 1800x720 with 2 Axes>"
      ]
     },
     "metadata": {
      "needs_background": "light"
     },
     "output_type": "display_data"
    }
   ],
   "source": [
    "##Visually look to see how much missing data there is\n",
    "\n",
    "import missingno as msno\n",
    "\n",
    "msno.matrix(df.sample(250))"
   ]
  },
  {
   "cell_type": "code",
   "execution_count": 17,
   "metadata": {},
   "outputs": [
    {
     "data": {
      "text/plain": [
       "(5051, 14)"
      ]
     },
     "execution_count": 17,
     "metadata": {},
     "output_type": "execute_result"
    }
   ],
   "source": [
    "## Filter the dataframe to remove zeros\n",
    "\n",
    "df = df[(df['Australian Funding']>0.0) & (df['Physical Address Post Code']>0.0) & (df['Residential High Care Places']>0.0) & (df['Residential Low Care Places']>0.0) ]\n",
    "\n",
    "df.shape"
   ]
  },
  {
   "cell_type": "code",
   "execution_count": 18,
   "metadata": {},
   "outputs": [
    {
     "data": {
      "text/plain": [
       "<matplotlib.axes._subplots.AxesSubplot at 0x16d370fc7f0>"
      ]
     },
     "execution_count": 18,
     "metadata": {},
     "output_type": "execute_result"
    },
    {
     "data": {
      "image/png": "[encoded data removed]",
      "text/plain": [
       "<Figure size 1800x720 with 2 Axes>"
      ]
     },
     "metadata": {
      "needs_background": "light"
     },
     "output_type": "display_data"
    }
   ],
   "source": [
    "##Visually look to see how much missing data there is\n",
    "\n",
    "import missingno as msno\n",
    "\n",
    "msno.matrix(df.sample(250))"
   ]
  },
  {
   "cell_type": "code",
   "execution_count": 19,
   "metadata": {},
   "outputs": [
    {
     "data": {
      "text/plain": [
       "Year                              0\n",
       "Aged Care Planning Region Name    0\n",
       "Care Type                         0\n",
       "Home Care High Places             0\n",
       "Home Care Low Places              0\n",
       "Home Care Places                  0\n",
       "Organisation Type                 0\n",
       "Physical Address Post Code        0\n",
       "Physical Address Suburb           0\n",
       "Residential High Care Places      0\n",
       "Residential Low Care Places       0\n",
       "Residential Places                0\n",
       "Provider Name                     0\n",
       "Australian Funding                0\n",
       "dtype: int64"
      ]
     },
     "execution_count": 19,
     "metadata": {},
     "output_type": "execute_result"
    }
   ],
   "source": [
    "df.isnull().sum()\n"
   ]
  },
  {
   "cell_type": "code",
   "execution_count": 20,
   "metadata": {},
   "outputs": [
    {
     "name": "stdout",
     "output_type": "stream",
     "text": [
      "<class 'pandas.core.frame.DataFrame'>\n",
      "Int64Index: 5051 entries, 1 to 5168\n",
      "Data columns (total 14 columns):\n",
      "Year                              5051 non-null int64\n",
      "Aged Care Planning Region Name    5051 non-null object\n",
      "Care Type                         5051 non-null object\n",
      "Home Care High Places             5051 non-null float64\n",
      "Home Care Low Places              5051 non-null float64\n",
      "Home Care Places                  5051 non-null float64\n",
      "Organisation Type                 5051 non-null object\n",
      "Physical Address Post Code        5051 non-null float64\n",
      "Physical Address Suburb           5051 non-null object\n",
      "Residential High Care Places      5051 non-null float64\n",
      "Residential Low Care Places       5051 non-null float64\n",
      "Residential Places                5051 non-null float64\n",
      "Provider Name                     5051 non-null object\n",
      "Australian Funding                5051 non-null float64\n",
      "dtypes: float64(8), int64(1), object(5)\n",
      "memory usage: 591.9+ KB\n"
     ]
    }
   ],
   "source": [
    "df.info()"
   ]
  },
  {
   "cell_type": "code",
   "execution_count": 21,
   "metadata": {},
   "outputs": [],
   "source": [
    "df.dropna(inplace=True)"
   ]
  },
  {
   "cell_type": "code",
   "execution_count": 22,
   "metadata": {},
   "outputs": [
    {
     "name": "stdout",
     "output_type": "stream",
     "text": [
      "<class 'pandas.core.frame.DataFrame'>\n",
      "Int64Index: 5051 entries, 1 to 5168\n",
      "Data columns (total 14 columns):\n",
      "Year                              5051 non-null int64\n",
      "Aged Care Planning Region Name    5051 non-null object\n",
      "Care Type                         5051 non-null object\n",
      "Home Care High Places             5051 non-null float64\n",
      "Home Care Low Places              5051 non-null float64\n",
      "Home Care Places                  5051 non-null float64\n",
      "Organisation Type                 5051 non-null object\n",
      "Physical Address Post Code        5051 non-null float64\n",
      "Physical Address Suburb           5051 non-null object\n",
      "Residential High Care Places      5051 non-null float64\n",
      "Residential Low Care Places       5051 non-null float64\n",
      "Residential Places                5051 non-null float64\n",
      "Provider Name                     5051 non-null object\n",
      "Australian Funding                5051 non-null float64\n",
      "dtypes: float64(8), int64(1), object(5)\n",
      "memory usage: 591.9+ KB\n"
     ]
    }
   ],
   "source": [
    "df.info()"
   ]
  },
  {
   "cell_type": "code",
   "execution_count": 23,
   "metadata": {},
   "outputs": [
    {
     "data": {
      "text/html": [
       "<div>\n",
       "<style scoped>\n",
       "    .dataframe tbody tr th:only-of-type {\n",
       "        vertical-align: middle;\n",
       "    }\n",
       "\n",
       "    .dataframe tbody tr th {\n",
       "        vertical-align: top;\n",
       "    }\n",
       "\n",
       "    .dataframe thead th {\n",
       "        text-align: right;\n",
       "    }\n",
       "</style>\n",
       "<table border=\"1\" class=\"dataframe\">\n",
       "  <thead>\n",
       "    <tr style=\"text-align: right;\">\n",
       "      <th></th>\n",
       "      <th>Year</th>\n",
       "      <th>Home Care High Places</th>\n",
       "      <th>Home Care Low Places</th>\n",
       "      <th>Home Care Places</th>\n",
       "      <th>Physical Address Post Code</th>\n",
       "      <th>Residential High Care Places</th>\n",
       "      <th>Residential Low Care Places</th>\n",
       "      <th>Residential Places</th>\n",
       "      <th>Australian Funding</th>\n",
       "    </tr>\n",
       "  </thead>\n",
       "  <tbody>\n",
       "    <tr>\n",
       "      <th>count</th>\n",
       "      <td>5051.00000</td>\n",
       "      <td>5051.0</td>\n",
       "      <td>5051.000000</td>\n",
       "      <td>5051.0</td>\n",
       "      <td>5051.000000</td>\n",
       "      <td>5051.000000</td>\n",
       "      <td>5051.000000</td>\n",
       "      <td>5051.0</td>\n",
       "      <td>5.051000e+03</td>\n",
       "    </tr>\n",
       "    <tr>\n",
       "      <th>mean</th>\n",
       "      <td>2011.36963</td>\n",
       "      <td>0.0</td>\n",
       "      <td>0.117402</td>\n",
       "      <td>0.0</td>\n",
       "      <td>3913.914076</td>\n",
       "      <td>42.333597</td>\n",
       "      <td>41.453970</td>\n",
       "      <td>0.0</td>\n",
       "      <td>3.646370e+06</td>\n",
       "    </tr>\n",
       "    <tr>\n",
       "      <th>std</th>\n",
       "      <td>1.74020</td>\n",
       "      <td>0.0</td>\n",
       "      <td>1.394003</td>\n",
       "      <td>0.0</td>\n",
       "      <td>1460.781382</td>\n",
       "      <td>29.040385</td>\n",
       "      <td>30.729726</td>\n",
       "      <td>0.0</td>\n",
       "      <td>2.174808e+06</td>\n",
       "    </tr>\n",
       "    <tr>\n",
       "      <th>min</th>\n",
       "      <td>2009.00000</td>\n",
       "      <td>0.0</td>\n",
       "      <td>0.000000</td>\n",
       "      <td>0.0</td>\n",
       "      <td>810.000000</td>\n",
       "      <td>1.000000</td>\n",
       "      <td>1.000000</td>\n",
       "      <td>0.0</td>\n",
       "      <td>6.428300e+02</td>\n",
       "    </tr>\n",
       "    <tr>\n",
       "      <th>25%</th>\n",
       "      <td>2010.00000</td>\n",
       "      <td>0.0</td>\n",
       "      <td>0.000000</td>\n",
       "      <td>0.0</td>\n",
       "      <td>2650.000000</td>\n",
       "      <td>20.000000</td>\n",
       "      <td>17.000000</td>\n",
       "      <td>0.0</td>\n",
       "      <td>2.096378e+06</td>\n",
       "    </tr>\n",
       "    <tr>\n",
       "      <th>50%</th>\n",
       "      <td>2011.00000</td>\n",
       "      <td>0.0</td>\n",
       "      <td>0.000000</td>\n",
       "      <td>0.0</td>\n",
       "      <td>3707.000000</td>\n",
       "      <td>39.000000</td>\n",
       "      <td>39.000000</td>\n",
       "      <td>0.0</td>\n",
       "      <td>3.443936e+06</td>\n",
       "    </tr>\n",
       "    <tr>\n",
       "      <th>75%</th>\n",
       "      <td>2012.00000</td>\n",
       "      <td>0.0</td>\n",
       "      <td>0.000000</td>\n",
       "      <td>0.0</td>\n",
       "      <td>4884.000000</td>\n",
       "      <td>60.000000</td>\n",
       "      <td>60.000000</td>\n",
       "      <td>0.0</td>\n",
       "      <td>4.919133e+06</td>\n",
       "    </tr>\n",
       "    <tr>\n",
       "      <th>max</th>\n",
       "      <td>2014.00000</td>\n",
       "      <td>0.0</td>\n",
       "      <td>69.000000</td>\n",
       "      <td>0.0</td>\n",
       "      <td>7467.000000</td>\n",
       "      <td>216.000000</td>\n",
       "      <td>336.000000</td>\n",
       "      <td>0.0</td>\n",
       "      <td>1.831883e+07</td>\n",
       "    </tr>\n",
       "  </tbody>\n",
       "</table>\n",
       "</div>"
      ],
      "text/plain": [
       "             Year  Home Care High Places  Home Care Low Places  \\\n",
       "count  5051.00000                 5051.0           5051.000000   \n",
       "mean   2011.36963                    0.0              0.117402   \n",
       "std       1.74020                    0.0              1.394003   \n",
       "min    2009.00000                    0.0              0.000000   \n",
       "25%    2010.00000                    0.0              0.000000   \n",
       "50%    2011.00000                    0.0              0.000000   \n",
       "75%    2012.00000                    0.0              0.000000   \n",
       "max    2014.00000                    0.0             69.000000   \n",
       "\n",
       "       Home Care Places  Physical Address Post Code  \\\n",
       "count            5051.0                 5051.000000   \n",
       "mean                0.0                 3913.914076   \n",
       "std                 0.0                 1460.781382   \n",
       "min                 0.0                  810.000000   \n",
       "25%                 0.0                 2650.000000   \n",
       "50%                 0.0                 3707.000000   \n",
       "75%                 0.0                 4884.000000   \n",
       "max                 0.0                 7467.000000   \n",
       "\n",
       "       Residential High Care Places  Residential Low Care Places  \\\n",
       "count                   5051.000000                  5051.000000   \n",
       "mean                      42.333597                    41.453970   \n",
       "std                       29.040385                    30.729726   \n",
       "min                        1.000000                     1.000000   \n",
       "25%                       20.000000                    17.000000   \n",
       "50%                       39.000000                    39.000000   \n",
       "75%                       60.000000                    60.000000   \n",
       "max                      216.000000                   336.000000   \n",
       "\n",
       "       Residential Places  Australian Funding  \n",
       "count              5051.0        5.051000e+03  \n",
       "mean                  0.0        3.646370e+06  \n",
       "std                   0.0        2.174808e+06  \n",
       "min                   0.0        6.428300e+02  \n",
       "25%                   0.0        2.096378e+06  \n",
       "50%                   0.0        3.443936e+06  \n",
       "75%                   0.0        4.919133e+06  \n",
       "max                   0.0        1.831883e+07  "
      ]
     },
     "execution_count": 23,
     "metadata": {},
     "output_type": "execute_result"
    }
   ],
   "source": [
    "df.describe()"
   ]
  },
  {
   "cell_type": "code",
   "execution_count": 24,
   "metadata": {},
   "outputs": [
    {
     "data": {
      "text/plain": [
       "Year                            3.028297e+00\n",
       "Home Care High Places           0.000000e+00\n",
       "Home Care Low Places            1.943244e+00\n",
       "Home Care Places                0.000000e+00\n",
       "Physical Address Post Code      2.133882e+06\n",
       "Residential High Care Places    8.433439e+02\n",
       "Residential Low Care Places     9.443160e+02\n",
       "Residential Places              0.000000e+00\n",
       "Australian Funding              4.729791e+12\n",
       "dtype: float64"
      ]
     },
     "execution_count": 24,
     "metadata": {},
     "output_type": "execute_result"
    }
   ],
   "source": [
    "## See the variance\n",
    "\n",
    "df.var()"
   ]
  },
  {
   "cell_type": "code",
   "execution_count": 25,
   "metadata": {},
   "outputs": [
    {
     "data": {
      "text/plain": [
       "<matplotlib.axes._subplots.AxesSubplot at 0x16d36937b70>"
      ]
     },
     "execution_count": 25,
     "metadata": {},
     "output_type": "execute_result"
    },
    {
     "data": {
      "image/png": "[encoded data removed]",
      "text/plain": [
       "<Figure size 1440x720 with 1 Axes>"
      ]
     },
     "metadata": {
      "needs_background": "light"
     },
     "output_type": "display_data"
    }
   ],
   "source": [
    "## How much data is there left by year\n",
    "\n",
    "fig, ax = plt.subplots(figsize=(20,10))\n",
    "sns.countplot(df['Year'], ax=ax)\n"
   ]
  },
  {
   "cell_type": "markdown",
   "metadata": {},
   "source": [
    "Most of the Aged Care facilities are residential in nature"
   ]
  },
  {
   "cell_type": "code",
   "execution_count": 26,
   "metadata": {},
   "outputs": [
    {
     "data": {
      "text/plain": [
       "[Text(0, 0, 'Residential'),\n",
       " Text(0, 0, 'Multi-Purpose Service'),\n",
       " Text(0, 0, 'National Aboriginal and Torres Strait Islander Aged Care Program'),\n",
       " Text(0, 0, 'MPS')]"
      ]
     },
     "execution_count": 26,
     "metadata": {},
     "output_type": "execute_result"
    },
    {
     "data": {
      "image/png": "[encoded data removed]",
      "text/plain": [
       "<Figure size 1440x720 with 1 Axes>"
      ]
     },
     "metadata": {
      "needs_background": "light"
     },
     "output_type": "display_data"
    }
   ],
   "source": [
    "fig, ax = plt.subplots(figsize=(20,10))\n",
    "a = sns.countplot(df['Care Type'], ax=ax)\n",
    "a.set_xticklabels(a.get_xticklabels(), rotation=90)"
   ]
  },
  {
   "cell_type": "code",
   "execution_count": 27,
   "metadata": {},
   "outputs": [
    {
     "data": {
      "text/html": [
       "<div>\n",
       "<style scoped>\n",
       "    .dataframe tbody tr th:only-of-type {\n",
       "        vertical-align: middle;\n",
       "    }\n",
       "\n",
       "    .dataframe tbody tr th {\n",
       "        vertical-align: top;\n",
       "    }\n",
       "\n",
       "    .dataframe thead th {\n",
       "        text-align: right;\n",
       "    }\n",
       "</style>\n",
       "<table border=\"1\" class=\"dataframe\">\n",
       "  <thead>\n",
       "    <tr style=\"text-align: right;\">\n",
       "      <th></th>\n",
       "      <th>Year</th>\n",
       "      <th>Aged Care Planning Region Name</th>\n",
       "      <th>Care Type</th>\n",
       "      <th>Home Care High Places</th>\n",
       "      <th>Home Care Low Places</th>\n",
       "      <th>Home Care Places</th>\n",
       "      <th>Organisation Type</th>\n",
       "      <th>Physical Address Post Code</th>\n",
       "      <th>Physical Address Suburb</th>\n",
       "      <th>Residential High Care Places</th>\n",
       "      <th>Residential Low Care Places</th>\n",
       "      <th>Residential Places</th>\n",
       "      <th>Provider Name</th>\n",
       "      <th>Australian Funding</th>\n",
       "    </tr>\n",
       "  </thead>\n",
       "  <tbody>\n",
       "    <tr>\n",
       "      <th>1</th>\n",
       "      <td>2009</td>\n",
       "      <td>ACT</td>\n",
       "      <td>Residential</td>\n",
       "      <td>0.0</td>\n",
       "      <td>0.0</td>\n",
       "      <td>0.0</td>\n",
       "      <td>Community Based</td>\n",
       "      <td>2611.0</td>\n",
       "      <td>STIRLING</td>\n",
       "      <td>8.0</td>\n",
       "      <td>34.0</td>\n",
       "      <td>0.0</td>\n",
       "      <td>0</td>\n",
       "      <td>1716906.19</td>\n",
       "    </tr>\n",
       "    <tr>\n",
       "      <th>3</th>\n",
       "      <td>2009</td>\n",
       "      <td>ACT</td>\n",
       "      <td>Residential</td>\n",
       "      <td>0.0</td>\n",
       "      <td>0.0</td>\n",
       "      <td>0.0</td>\n",
       "      <td>Charitable</td>\n",
       "      <td>2603.0</td>\n",
       "      <td>RED HILL</td>\n",
       "      <td>2.0</td>\n",
       "      <td>66.0</td>\n",
       "      <td>0.0</td>\n",
       "      <td>0</td>\n",
       "      <td>1494352.63</td>\n",
       "    </tr>\n",
       "    <tr>\n",
       "      <th>8</th>\n",
       "      <td>2009</td>\n",
       "      <td>ACT</td>\n",
       "      <td>Residential</td>\n",
       "      <td>0.0</td>\n",
       "      <td>0.0</td>\n",
       "      <td>0.0</td>\n",
       "      <td>Private Incorporated Body</td>\n",
       "      <td>2617.0</td>\n",
       "      <td>BRUCE</td>\n",
       "      <td>59.0</td>\n",
       "      <td>41.0</td>\n",
       "      <td>0.0</td>\n",
       "      <td>0</td>\n",
       "      <td>3048844.08</td>\n",
       "    </tr>\n",
       "    <tr>\n",
       "      <th>15</th>\n",
       "      <td>2009</td>\n",
       "      <td>ACT</td>\n",
       "      <td>Residential</td>\n",
       "      <td>0.0</td>\n",
       "      <td>0.0</td>\n",
       "      <td>0.0</td>\n",
       "      <td>Charitable</td>\n",
       "      <td>2602.0</td>\n",
       "      <td>AINSLIE</td>\n",
       "      <td>24.0</td>\n",
       "      <td>84.0</td>\n",
       "      <td>0.0</td>\n",
       "      <td>0</td>\n",
       "      <td>2383747.91</td>\n",
       "    </tr>\n",
       "    <tr>\n",
       "      <th>35</th>\n",
       "      <td>2009</td>\n",
       "      <td>ACT</td>\n",
       "      <td>Residential</td>\n",
       "      <td>0.0</td>\n",
       "      <td>0.0</td>\n",
       "      <td>0.0</td>\n",
       "      <td>Religious</td>\n",
       "      <td>2612.0</td>\n",
       "      <td>CAMPBELL</td>\n",
       "      <td>10.0</td>\n",
       "      <td>30.0</td>\n",
       "      <td>0.0</td>\n",
       "      <td>0</td>\n",
       "      <td>159043.44</td>\n",
       "    </tr>\n",
       "  </tbody>\n",
       "</table>\n",
       "</div>"
      ],
      "text/plain": [
       "    Year Aged Care Planning Region Name    Care Type  Home Care High Places  \\\n",
       "1   2009                            ACT  Residential                    0.0   \n",
       "3   2009                            ACT  Residential                    0.0   \n",
       "8   2009                            ACT  Residential                    0.0   \n",
       "15  2009                            ACT  Residential                    0.0   \n",
       "35  2009                            ACT  Residential                    0.0   \n",
       "\n",
       "    Home Care Low Places  Home Care Places          Organisation Type  \\\n",
       "1                    0.0               0.0            Community Based   \n",
       "3                    0.0               0.0                 Charitable   \n",
       "8                    0.0               0.0  Private Incorporated Body   \n",
       "15                   0.0               0.0                 Charitable   \n",
       "35                   0.0               0.0                  Religious   \n",
       "\n",
       "    Physical Address Post Code Physical Address Suburb  \\\n",
       "1                       2611.0                STIRLING   \n",
       "3                       2603.0                RED HILL   \n",
       "8                       2617.0                   BRUCE   \n",
       "15                      2602.0                 AINSLIE   \n",
       "35                      2612.0                CAMPBELL   \n",
       "\n",
       "    Residential High Care Places  Residential Low Care Places  \\\n",
       "1                            8.0                         34.0   \n",
       "3                            2.0                         66.0   \n",
       "8                           59.0                         41.0   \n",
       "15                          24.0                         84.0   \n",
       "35                          10.0                         30.0   \n",
       "\n",
       "    Residential Places Provider Name  Australian Funding  \n",
       "1                  0.0             0          1716906.19  \n",
       "3                  0.0             0          1494352.63  \n",
       "8                  0.0             0          3048844.08  \n",
       "15                 0.0             0          2383747.91  \n",
       "35                 0.0             0           159043.44  "
      ]
     },
     "execution_count": 27,
     "metadata": {},
     "output_type": "execute_result"
    }
   ],
   "source": [
    "df.head()"
   ]
  },
  {
   "cell_type": "markdown",
   "metadata": {},
   "source": [
    "There appears to be a long tail for funding for residential aged care homes, judging from the box plot. Hence why a joint plot (distribution + scatter plot) is used to confirm this long tail."
   ]
  },
  {
   "cell_type": "code",
   "execution_count": 28,
   "metadata": {},
   "outputs": [
    {
     "data": {
      "image/png": "[encoded data removed]",
      "text/plain": [
       "<Figure size 1080x576 with 1 Axes>"
      ]
     },
     "metadata": {
      "needs_background": "light"
     },
     "output_type": "display_data"
    }
   ],
   "source": [
    "## Box plot\n",
    "\n",
    "plt.figure(figsize=(15,8))\n",
    "sns.boxplot(x=\"Care Type\", y=\"Australian Funding\", data=df)\n",
    "plt.show()"
   ]
  },
  {
   "cell_type": "code",
   "execution_count": 29,
   "metadata": {},
   "outputs": [
    {
     "data": {
      "image/png": "[encoded data removed]",
      "text/plain": [
       "<Figure size 720x720 with 3 Axes>"
      ]
     },
     "metadata": {
      "needs_background": "light"
     },
     "output_type": "display_data"
    }
   ],
   "source": [
    "##Joint plot - scatter in middle and distribution on top and sides\n",
    "\n",
    "sns.jointplot(x=\"Residential High Care Places\", y=\"Australian Funding\", data=df, height=10, ratio=3, color=\"r\")\n",
    "plt.show()"
   ]
  },
  {
   "cell_type": "code",
   "execution_count": 30,
   "metadata": {},
   "outputs": [
    {
     "data": {
      "image/png": "[encoded data removed]",
      "text/plain": [
       "<Figure size 720x720 with 3 Axes>"
      ]
     },
     "metadata": {
      "needs_background": "light"
     },
     "output_type": "display_data"
    }
   ],
   "source": [
    "##Joint plot - scatter in middle and distribution on top and sides\n",
    "\n",
    "sns.jointplot(x=\"Residential Low Care Places\", y=\"Australian Funding\", data=df, height=10, ratio=3, color=\"r\")\n",
    "plt.show()"
   ]
  },
  {
   "cell_type": "code",
   "execution_count": 31,
   "metadata": {},
   "outputs": [
    {
     "data": {
      "text/plain": [
       "<matplotlib.axes._subplots.AxesSubplot at 0x16d3521d978>"
      ]
     },
     "execution_count": 31,
     "metadata": {},
     "output_type": "execute_result"
    },
    {
     "data": {
      "image/png": "[encoded data removed]",
      "text/plain": [
       "<Figure size 1440x720 with 1 Axes>"
      ]
     },
     "metadata": {
      "needs_background": "light"
     },
     "output_type": "display_data"
    }
   ],
   "source": [
    "##Histogram\n",
    "fig, ax = plt.subplots(figsize=(20,10))\n",
    "sns.distplot(df['Australian Funding'], color='blue', kde=False, bins=10, ax=ax) "
   ]
  },
  {
   "cell_type": "code",
   "execution_count": 32,
   "metadata": {},
   "outputs": [
    {
     "data": {
      "text/html": [
       "<div>\n",
       "<style scoped>\n",
       "    .dataframe tbody tr th:only-of-type {\n",
       "        vertical-align: middle;\n",
       "    }\n",
       "\n",
       "    .dataframe tbody tr th {\n",
       "        vertical-align: top;\n",
       "    }\n",
       "\n",
       "    .dataframe thead th {\n",
       "        text-align: right;\n",
       "    }\n",
       "</style>\n",
       "<table border=\"1\" class=\"dataframe\">\n",
       "  <thead>\n",
       "    <tr style=\"text-align: right;\">\n",
       "      <th></th>\n",
       "      <th>Year</th>\n",
       "      <th>Home Care High Places</th>\n",
       "      <th>Home Care Low Places</th>\n",
       "      <th>Home Care Places</th>\n",
       "      <th>Physical Address Post Code</th>\n",
       "      <th>Residential High Care Places</th>\n",
       "      <th>Residential Low Care Places</th>\n",
       "      <th>Residential Places</th>\n",
       "      <th>Australian Funding</th>\n",
       "    </tr>\n",
       "  </thead>\n",
       "  <tbody>\n",
       "    <tr>\n",
       "      <th>1</th>\n",
       "      <td>2009</td>\n",
       "      <td>0.0</td>\n",
       "      <td>0.0</td>\n",
       "      <td>0.0</td>\n",
       "      <td>2611.0</td>\n",
       "      <td>8.0</td>\n",
       "      <td>34.0</td>\n",
       "      <td>0.0</td>\n",
       "      <td>1716906.19</td>\n",
       "    </tr>\n",
       "    <tr>\n",
       "      <th>3</th>\n",
       "      <td>2009</td>\n",
       "      <td>0.0</td>\n",
       "      <td>0.0</td>\n",
       "      <td>0.0</td>\n",
       "      <td>2603.0</td>\n",
       "      <td>2.0</td>\n",
       "      <td>66.0</td>\n",
       "      <td>0.0</td>\n",
       "      <td>1494352.63</td>\n",
       "    </tr>\n",
       "    <tr>\n",
       "      <th>8</th>\n",
       "      <td>2009</td>\n",
       "      <td>0.0</td>\n",
       "      <td>0.0</td>\n",
       "      <td>0.0</td>\n",
       "      <td>2617.0</td>\n",
       "      <td>59.0</td>\n",
       "      <td>41.0</td>\n",
       "      <td>0.0</td>\n",
       "      <td>3048844.08</td>\n",
       "    </tr>\n",
       "    <tr>\n",
       "      <th>15</th>\n",
       "      <td>2009</td>\n",
       "      <td>0.0</td>\n",
       "      <td>0.0</td>\n",
       "      <td>0.0</td>\n",
       "      <td>2602.0</td>\n",
       "      <td>24.0</td>\n",
       "      <td>84.0</td>\n",
       "      <td>0.0</td>\n",
       "      <td>2383747.91</td>\n",
       "    </tr>\n",
       "    <tr>\n",
       "      <th>35</th>\n",
       "      <td>2009</td>\n",
       "      <td>0.0</td>\n",
       "      <td>0.0</td>\n",
       "      <td>0.0</td>\n",
       "      <td>2612.0</td>\n",
       "      <td>10.0</td>\n",
       "      <td>30.0</td>\n",
       "      <td>0.0</td>\n",
       "      <td>159043.44</td>\n",
       "    </tr>\n",
       "  </tbody>\n",
       "</table>\n",
       "</div>"
      ],
      "text/plain": [
       "    Year  Home Care High Places  Home Care Low Places  Home Care Places  \\\n",
       "1   2009                    0.0                   0.0               0.0   \n",
       "3   2009                    0.0                   0.0               0.0   \n",
       "8   2009                    0.0                   0.0               0.0   \n",
       "15  2009                    0.0                   0.0               0.0   \n",
       "35  2009                    0.0                   0.0               0.0   \n",
       "\n",
       "    Physical Address Post Code  Residential High Care Places  \\\n",
       "1                       2611.0                           8.0   \n",
       "3                       2603.0                           2.0   \n",
       "8                       2617.0                          59.0   \n",
       "15                      2602.0                          24.0   \n",
       "35                      2612.0                          10.0   \n",
       "\n",
       "    Residential Low Care Places  Residential Places  Australian Funding  \n",
       "1                          34.0                 0.0          1716906.19  \n",
       "3                          66.0                 0.0          1494352.63  \n",
       "8                          41.0                 0.0          3048844.08  \n",
       "15                         84.0                 0.0          2383747.91  \n",
       "35                         30.0                 0.0           159043.44  "
      ]
     },
     "execution_count": 32,
     "metadata": {},
     "output_type": "execute_result"
    }
   ],
   "source": [
    "## Only look for the columns with numbers\n",
    "df_num = df.select_dtypes(include = ['float64', 'int64'])\n",
    "df_num.head()"
   ]
  },
  {
   "cell_type": "markdown",
   "metadata": {},
   "source": [
    "## Start the Machine Learning Model"
   ]
  },
  {
   "cell_type": "code",
   "execution_count": 33,
   "metadata": {},
   "outputs": [],
   "source": [
    "#Split data into training and test data sets\n",
    "\n",
    "from sklearn.model_selection import train_test_split\n",
    "\n",
    "train, test = train_test_split(df_num, test_size=0.2)\n",
    "\n",
    "y_train = train['Australian Funding']\n",
    "y_test = test['Australian Funding']\n",
    "\n",
    "X_train = train.drop(['Australian Funding', 'Residential Places', 'Home Care Places', 'Home Care Low Places', 'Home Care High Places'], axis=1)\n",
    "X_test = test.drop(['Australian Funding', 'Residential Places', 'Home Care Places', 'Home Care Low Places', 'Home Care High Places'], axis=1)"
   ]
  },
  {
   "cell_type": "code",
   "execution_count": 34,
   "metadata": {},
   "outputs": [
    {
     "data": {
      "text/plain": [
       "Text(0.5, 1.0, 'Which Feature(s) are most important')"
      ]
     },
     "execution_count": 34,
     "metadata": {},
     "output_type": "execute_result"
    },
    {
     "data": {
      "image/png": "[encoded data removed]",
      "text/plain": [
       "<Figure size 720x720 with 1 Axes>"
      ]
     },
     "metadata": {
      "needs_background": "light"
     },
     "output_type": "display_data"
    }
   ],
   "source": [
    "#Feature importance\n",
    "from sklearn.ensemble import RandomForestRegressor\n",
    "rfr = RandomForestRegressor(n_estimators=1000, random_state=0, n_jobs=-1)\n",
    "rfr.fit(X_train, y_train)\n",
    "\n",
    "f_im = rfr.feature_importances_.round(2)\n",
    "rank = pd.Series(f_im, index=X_train.columns).sort_values(ascending=False)\n",
    "\n",
    "figsize = [10.0, 10.0]\n",
    "\n",
    "plt.figure(figsize=figsize)\n",
    "sns.barplot(y=rank.index,x=rank.values,palette='muted')\n",
    "plt.xlabel('Importance')\n",
    "plt.title('Which Feature(s) are most important')"
   ]
  },
  {
   "cell_type": "code",
   "execution_count": 40,
   "metadata": {},
   "outputs": [],
   "source": [
    "# Import machine learning modules\n",
    "\n",
    "from sklearn.model_selection import train_test_split\n",
    "from sklearn import model_selection, tree, preprocessing, metrics, linear_model\n",
    "from sklearn.svm import SVR\n",
    "from sklearn.tree import DecisionTreeRegressor\n",
    "from sklearn.ensemble import RandomForestRegressor\n",
    "from sklearn.linear_model import LinearRegression \n",
    "import xgboost as xgb\n",
    "\n",
    "\n",
    "# Function that runs the requested algorithm and returns the accuracy metrics\n",
    "def fit_ml_algo(algo, X_train, y_train, cv):\n",
    "    \n",
    "    # One Pass\n",
    "    model = algo.fit(X_train, y_train)\n",
    "    score = round(model.score(X_train, y_train) * 100, 2)\n",
    "    \n",
    "    # Cross Validation \n",
    "    train_pred = model_selection.cross_val_predict(algo, \n",
    "                                                  X_train, \n",
    "                                                  y_train, \n",
    "                                                  cv=cv, \n",
    "                                                  n_jobs = -1)\n",
    "    \n",
    "    return train_pred, score\n",
    "\n",
    "\n",
    "\n",
    "# Random Forest Regressor ----------------------------------------------------------------\n",
    "\n",
    "train_pred_log, acc_rfor = fit_ml_algo(RandomForestRegressor(), \n",
    "                                                               X_train, \n",
    "                                                               y_train, \n",
    "                                                                    10)"
   ]
  },
  {
   "cell_type": "code",
   "execution_count": 41,
   "metadata": {},
   "outputs": [],
   "source": [
    "# Linear Regression ---------------------------------------------------------------------\n",
    "\n",
    "train_pred_log, acc_lin = fit_ml_algo(LinearRegression(), \n",
    "                                                               X_train, \n",
    "                                                               y_train, \n",
    "                                                                    10)"
   ]
  },
  {
   "cell_type": "code",
   "execution_count": 42,
   "metadata": {},
   "outputs": [],
   "source": [
    "# Decision Tree Regressor --------------------------------------------------------------------\n",
    "\n",
    "train_pred_knn, acc_dtr = fit_ml_algo(DecisionTreeRegressor(), \n",
    "                                                  X_train, \n",
    "                                                  y_train, \n",
    "                                                  10)"
   ]
  },
  {
   "cell_type": "code",
   "execution_count": 43,
   "metadata": {},
   "outputs": [],
   "source": [
    "\n",
    "# Support Vector Regressor --------------------------------------------------------------------\n",
    "\n",
    "train_pred_SVC, acc_svr = fit_ml_algo(SVR(), \n",
    "                                                                      X_train, \n",
    "                                                                      y_train, \n",
    "                                                                           10)"
   ]
  },
  {
   "cell_type": "code",
   "execution_count": 44,
   "metadata": {},
   "outputs": [
    {
     "name": "stdout",
     "output_type": "stream",
     "text": [
      "[18:14:53] WARNING: src/objective/regression_obj.cu:152: reg:linear is now deprecated in favor of reg:squarederror.\n"
     ]
    }
   ],
   "source": [
    "# XGB Regressor -------------------------------------------------------------------\n",
    "\n",
    "train_pred_xgb, acc_xgb = fit_ml_algo(xgb.XGBRegressor(),\n",
    "                                           X_train,\n",
    "                                           y_train,\n",
    "                                           10)"
   ]
  },
  {
   "cell_type": "code",
   "execution_count": 45,
   "metadata": {},
   "outputs": [
    {
     "name": "stdout",
     "output_type": "stream",
     "text": [
      "---Accuracy Scores---\n"
     ]
    },
    {
     "data": {
      "text/html": [
       "<div>\n",
       "<style scoped>\n",
       "    .dataframe tbody tr th:only-of-type {\n",
       "        vertical-align: middle;\n",
       "    }\n",
       "\n",
       "    .dataframe tbody tr th {\n",
       "        vertical-align: top;\n",
       "    }\n",
       "\n",
       "    .dataframe thead th {\n",
       "        text-align: right;\n",
       "    }\n",
       "</style>\n",
       "<table border=\"1\" class=\"dataframe\">\n",
       "  <thead>\n",
       "    <tr style=\"text-align: right;\">\n",
       "      <th></th>\n",
       "      <th>Model</th>\n",
       "      <th>Score</th>\n",
       "    </tr>\n",
       "  </thead>\n",
       "  <tbody>\n",
       "    <tr>\n",
       "      <th>2</th>\n",
       "      <td>DecisionTreeRegressor</td>\n",
       "      <td>100.00</td>\n",
       "    </tr>\n",
       "    <tr>\n",
       "      <th>0</th>\n",
       "      <td>RandomForestRegressor</td>\n",
       "      <td>96.46</td>\n",
       "    </tr>\n",
       "    <tr>\n",
       "      <th>4</th>\n",
       "      <td>XGB</td>\n",
       "      <td>84.52</td>\n",
       "    </tr>\n",
       "    <tr>\n",
       "      <th>1</th>\n",
       "      <td>LinearRegression</td>\n",
       "      <td>77.62</td>\n",
       "    </tr>\n",
       "    <tr>\n",
       "      <th>3</th>\n",
       "      <td>SVR</td>\n",
       "      <td>-0.78</td>\n",
       "    </tr>\n",
       "  </tbody>\n",
       "</table>\n",
       "</div>"
      ],
      "text/plain": [
       "                   Model   Score\n",
       "2  DecisionTreeRegressor  100.00\n",
       "0  RandomForestRegressor   96.46\n",
       "4                    XGB   84.52\n",
       "1       LinearRegression   77.62\n",
       "3                    SVR   -0.78"
      ]
     },
     "execution_count": 45,
     "metadata": {},
     "output_type": "execute_result"
    }
   ],
   "source": [
    "# Accuracy Scores --------------------------------------------------------------------------\n",
    "\n",
    "models = pd.DataFrame({\n",
    "    'Model': ['RandomForestRegressor', 'LinearRegression', 'DecisionTreeRegressor', 'SVR', 'XGB'],\n",
    "    'Score': [\n",
    "        acc_rfor,\n",
    "        acc_lin, \n",
    "        acc_dtr, \n",
    "        acc_svr,\n",
    "        acc_xgb\n",
    "    ]})\n",
    "print(\"---Accuracy Scores---\")\n",
    "models.sort_values(by='Score', ascending=False)"
   ]
  },
  {
   "cell_type": "code",
   "execution_count": 46,
   "metadata": {},
   "outputs": [],
   "source": [
    "#Change column names to be more friendly for function\n",
    "\n",
    "X_train.rename(columns={'Residential High Care Places': 'Residential_High_Care_Places',\n",
    "                       'Residential Low Care Places': 'Residential_Low_Care_Places',\n",
    "                       'Physical Address Post Code': 'Postcode'}, inplace=True)"
   ]
  },
  {
   "cell_type": "code",
   "execution_count": 47,
   "metadata": {},
   "outputs": [
    {
     "name": "stdout",
     "output_type": "stream",
     "text": [
      "96.85\n"
     ]
    }
   ],
   "source": [
    "#Choose model\n",
    "\n",
    "X_train = np.array(X_train[['Year', 'Postcode', 'Residential_High_Care_Places', 'Residential_Low_Care_Places']])\n",
    "\n",
    "y_train = np.array(y_train)\n",
    "\n",
    "rfr = RandomForestRegressor()\n",
    "\n",
    "model = rfr.fit(X_train, y_train)\n",
    "\n",
    "\n",
    "# model score\n",
    "print(round(model.score(X_train, y_train) * 100, 2))"
   ]
  },
  {
   "cell_type": "code",
   "execution_count": 48,
   "metadata": {},
   "outputs": [
    {
     "name": "stdout",
     "output_type": "stream",
     "text": [
      "Estimated Funding $3,757,855.45\n",
      "The accuracy score is:  96.85 %\n"
     ]
    }
   ],
   "source": [
    "## function to predict funding for Aged Care Home\n",
    "import locale\n",
    "locale.setlocale(locale.LC_ALL, 'en_AU')\n",
    "\n",
    "\n",
    "\n",
    "def Funding_Prediction(Year, Postcode, Residential_High_Care_Places, Residential_Low_Care_Places):\n",
    "    \n",
    "    print(\"Estimated Funding\", locale.currency(float(model.predict([[Year,\n",
    "                                                             Postcode,\n",
    "                                                             Residential_High_Care_Places,\n",
    "                                                             Residential_Low_Care_Places]])),grouping=True))\n",
    "\n",
    "#Predict test\n",
    "\n",
    "Funding_Prediction(2019, 3100, 10, 124)\n",
    "print(\"The accuracy score is: \", round(model.score(X_train, y_train) * 100, 2),\"%\")"
   ]
  }
 ],
 "metadata": {
  "kernelspec": {
   "display_name": "Python 3",
   "language": "python",
   "name": "python3"
  },
  "language_info": {
   "codemirror_mode": {
    "name": "ipython",
    "version": 3
   },
   "file_extension": ".py",
   "mimetype": "text/x-python",
   "name": "python",
   "nbconvert_exporter": "python",
   "pygments_lexer": "ipython3",
   "version": "3.7.3"
  }
 },
 "nbformat": 4,
 "nbformat_minor": 2
}
