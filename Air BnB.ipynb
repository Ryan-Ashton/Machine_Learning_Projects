{
 "cells": [
  {
   "cell_type": "markdown",
   "metadata": {},
   "source": [
    "Working Progress...\n",
    "\n",
    "Machine Learning with Air BnB Data"
   ]
  },
  {
   "cell_type": "code",
   "execution_count": 1,
   "metadata": {},
   "outputs": [
    {
     "name": "stderr",
     "output_type": "stream",
     "text": [
      "C:\\Users\\ryana\\Anaconda3\\lib\\site-packages\\IPython\\core\\interactiveshell.py:2728: DtypeWarning: Columns (35,77) have mixed types. Specify dtype option on import or set low_memory=False.\n",
      "  interactivity=interactivity, compiler=compiler, result=result)\n"
     ]
    },
    {
     "data": {
      "text/html": [
       "<div>\n",
       "<style scoped>\n",
       "    .dataframe tbody tr th:only-of-type {\n",
       "        vertical-align: middle;\n",
       "    }\n",
       "\n",
       "    .dataframe tbody tr th {\n",
       "        vertical-align: top;\n",
       "    }\n",
       "\n",
       "    .dataframe thead th {\n",
       "        text-align: right;\n",
       "    }\n",
       "</style>\n",
       "<table border=\"1\" class=\"dataframe\">\n",
       "  <thead>\n",
       "    <tr style=\"text-align: right;\">\n",
       "      <th></th>\n",
       "      <th>id</th>\n",
       "      <th>listing_url</th>\n",
       "      <th>scrape_id</th>\n",
       "      <th>last_scraped</th>\n",
       "      <th>name</th>\n",
       "      <th>summary</th>\n",
       "      <th>space</th>\n",
       "      <th>description</th>\n",
       "      <th>neighborhood_overview</th>\n",
       "      <th>notes</th>\n",
       "      <th>...</th>\n",
       "      <th>review_scores_location</th>\n",
       "      <th>review_scores_value</th>\n",
       "      <th>requires_license</th>\n",
       "      <th>license</th>\n",
       "      <th>instant_bookable</th>\n",
       "      <th>cancellation_policy</th>\n",
       "      <th>require_guest_profile_picture</th>\n",
       "      <th>require_guest_phone_verification</th>\n",
       "      <th>calculated_host_listings_count</th>\n",
       "      <th>reviews_per_month</th>\n",
       "    </tr>\n",
       "  </thead>\n",
       "  <tbody>\n",
       "    <tr>\n",
       "      <th>0</th>\n",
       "      <td>9835</td>\n",
       "      <td>https://www.airbnb.com/rooms/9835</td>\n",
       "      <td>2.018120e+13</td>\n",
       "      <td>12/7/2018</td>\n",
       "      <td>Beautiful Room &amp; House</td>\n",
       "      <td>NaN</td>\n",
       "      <td>House: Clean, New, Modern, Quite, Safe. 10Km f...</td>\n",
       "      <td>House: Clean, New, Modern, Quite, Safe. 10Km f...</td>\n",
       "      <td>Very safe! Family oriented. Older age group.</td>\n",
       "      <td>NaN</td>\n",
       "      <td>...</td>\n",
       "      <td>9.0</td>\n",
       "      <td>9.0</td>\n",
       "      <td>f</td>\n",
       "      <td>NaN</td>\n",
       "      <td>f</td>\n",
       "      <td>strict_14_with_grace_period</td>\n",
       "      <td>f</td>\n",
       "      <td>f</td>\n",
       "      <td>1</td>\n",
       "      <td>0.04</td>\n",
       "    </tr>\n",
       "    <tr>\n",
       "      <th>1</th>\n",
       "      <td>10803</td>\n",
       "      <td>https://www.airbnb.com/rooms/10803</td>\n",
       "      <td>2.018120e+13</td>\n",
       "      <td>12/7/2018</td>\n",
       "      <td>Room in Cool Deco Apartment in Brunswick</td>\n",
       "      <td>A large air conditioned room with queen spring...</td>\n",
       "      <td>The apartment is Deco/Edwardian in style and h...</td>\n",
       "      <td>A large air conditioned room with queen spring...</td>\n",
       "      <td>This hip area is a crossroads between two grea...</td>\n",
       "      <td>NaN</td>\n",
       "      <td>...</td>\n",
       "      <td>9.0</td>\n",
       "      <td>9.0</td>\n",
       "      <td>f</td>\n",
       "      <td>NaN</td>\n",
       "      <td>t</td>\n",
       "      <td>moderate</td>\n",
       "      <td>t</td>\n",
       "      <td>t</td>\n",
       "      <td>1</td>\n",
       "      <td>1.50</td>\n",
       "    </tr>\n",
       "    <tr>\n",
       "      <th>2</th>\n",
       "      <td>12936</td>\n",
       "      <td>https://www.airbnb.com/rooms/12936</td>\n",
       "      <td>2.018120e+13</td>\n",
       "      <td>12/7/2018</td>\n",
       "      <td>St Kilda 1BR APT+BEACHSIDE+VIEWS+PARKING+WIFI+AC</td>\n",
       "      <td>RIGHT IN THE HEART OF ST KILDA! It doesn't get...</td>\n",
       "      <td>FREE WiFi FREE in-building remote controlled g...</td>\n",
       "      <td>RIGHT IN THE HEART OF ST KILDA! It doesn't get...</td>\n",
       "      <td>A stay at our apartment means you can enjoy so...</td>\n",
       "      <td>First floor apartment with both lift and stair...</td>\n",
       "      <td>...</td>\n",
       "      <td>9.0</td>\n",
       "      <td>9.0</td>\n",
       "      <td>f</td>\n",
       "      <td>NaN</td>\n",
       "      <td>f</td>\n",
       "      <td>strict_14_with_grace_period</td>\n",
       "      <td>f</td>\n",
       "      <td>f</td>\n",
       "      <td>17</td>\n",
       "      <td>0.15</td>\n",
       "    </tr>\n",
       "    <tr>\n",
       "      <th>3</th>\n",
       "      <td>15246</td>\n",
       "      <td>https://www.airbnb.com/rooms/15246</td>\n",
       "      <td>2.018120e+13</td>\n",
       "      <td>12/7/2018</td>\n",
       "      <td>Large private room-close to city</td>\n",
       "      <td>Comfortable, relaxed house, a home away from  ...</td>\n",
       "      <td>The atmosphere is relaxed and easy going. You ...</td>\n",
       "      <td>Comfortable, relaxed house, a home away from  ...</td>\n",
       "      <td>This is a great neighbourhood – it is quiet, y...</td>\n",
       "      <td>A simple self service breakfast is available –...</td>\n",
       "      <td>...</td>\n",
       "      <td>9.0</td>\n",
       "      <td>9.0</td>\n",
       "      <td>f</td>\n",
       "      <td>NaN</td>\n",
       "      <td>f</td>\n",
       "      <td>moderate</td>\n",
       "      <td>f</td>\n",
       "      <td>f</td>\n",
       "      <td>3</td>\n",
       "      <td>0.30</td>\n",
       "    </tr>\n",
       "    <tr>\n",
       "      <th>4</th>\n",
       "      <td>16760</td>\n",
       "      <td>https://www.airbnb.com/rooms/16760</td>\n",
       "      <td>2.018120e+13</td>\n",
       "      <td>12/7/2018</td>\n",
       "      <td>Melbourne BnB near City &amp; Sports</td>\n",
       "      <td>NaN</td>\n",
       "      <td>We offer comfortable accommodation in Inner Me...</td>\n",
       "      <td>We offer comfortable accommodation in Inner Me...</td>\n",
       "      <td>NaN</td>\n",
       "      <td>NaN</td>\n",
       "      <td>...</td>\n",
       "      <td>10.0</td>\n",
       "      <td>9.0</td>\n",
       "      <td>f</td>\n",
       "      <td>NaN</td>\n",
       "      <td>f</td>\n",
       "      <td>moderate</td>\n",
       "      <td>f</td>\n",
       "      <td>f</td>\n",
       "      <td>1</td>\n",
       "      <td>0.74</td>\n",
       "    </tr>\n",
       "  </tbody>\n",
       "</table>\n",
       "<p>5 rows × 84 columns</p>\n",
       "</div>"
      ],
      "text/plain": [
       "      id                         listing_url     scrape_id last_scraped  \\\n",
       "0   9835   https://www.airbnb.com/rooms/9835  2.018120e+13    12/7/2018   \n",
       "1  10803  https://www.airbnb.com/rooms/10803  2.018120e+13    12/7/2018   \n",
       "2  12936  https://www.airbnb.com/rooms/12936  2.018120e+13    12/7/2018   \n",
       "3  15246  https://www.airbnb.com/rooms/15246  2.018120e+13    12/7/2018   \n",
       "4  16760  https://www.airbnb.com/rooms/16760  2.018120e+13    12/7/2018   \n",
       "\n",
       "                                               name  \\\n",
       "0                            Beautiful Room & House   \n",
       "1          Room in Cool Deco Apartment in Brunswick   \n",
       "2  St Kilda 1BR APT+BEACHSIDE+VIEWS+PARKING+WIFI+AC   \n",
       "3                  Large private room-close to city   \n",
       "4                  Melbourne BnB near City & Sports   \n",
       "\n",
       "                                             summary  \\\n",
       "0                                                NaN   \n",
       "1  A large air conditioned room with queen spring...   \n",
       "2  RIGHT IN THE HEART OF ST KILDA! It doesn't get...   \n",
       "3  Comfortable, relaxed house, a home away from  ...   \n",
       "4                                                NaN   \n",
       "\n",
       "                                               space  \\\n",
       "0  House: Clean, New, Modern, Quite, Safe. 10Km f...   \n",
       "1  The apartment is Deco/Edwardian in style and h...   \n",
       "2  FREE WiFi FREE in-building remote controlled g...   \n",
       "3  The atmosphere is relaxed and easy going. You ...   \n",
       "4  We offer comfortable accommodation in Inner Me...   \n",
       "\n",
       "                                         description  \\\n",
       "0  House: Clean, New, Modern, Quite, Safe. 10Km f...   \n",
       "1  A large air conditioned room with queen spring...   \n",
       "2  RIGHT IN THE HEART OF ST KILDA! It doesn't get...   \n",
       "3  Comfortable, relaxed house, a home away from  ...   \n",
       "4  We offer comfortable accommodation in Inner Me...   \n",
       "\n",
       "                               neighborhood_overview  \\\n",
       "0       Very safe! Family oriented. Older age group.   \n",
       "1  This hip area is a crossroads between two grea...   \n",
       "2  A stay at our apartment means you can enjoy so...   \n",
       "3  This is a great neighbourhood – it is quiet, y...   \n",
       "4                                                NaN   \n",
       "\n",
       "                                               notes        ...         \\\n",
       "0                                                NaN        ...          \n",
       "1                                                NaN        ...          \n",
       "2  First floor apartment with both lift and stair...        ...          \n",
       "3  A simple self service breakfast is available –...        ...          \n",
       "4                                                NaN        ...          \n",
       "\n",
       "  review_scores_location review_scores_value requires_license license  \\\n",
       "0                    9.0                 9.0                f     NaN   \n",
       "1                    9.0                 9.0                f     NaN   \n",
       "2                    9.0                 9.0                f     NaN   \n",
       "3                    9.0                 9.0                f     NaN   \n",
       "4                   10.0                 9.0                f     NaN   \n",
       "\n",
       "  instant_bookable          cancellation_policy require_guest_profile_picture  \\\n",
       "0                f  strict_14_with_grace_period                             f   \n",
       "1                t                     moderate                             t   \n",
       "2                f  strict_14_with_grace_period                             f   \n",
       "3                f                     moderate                             f   \n",
       "4                f                     moderate                             f   \n",
       "\n",
       "  require_guest_phone_verification calculated_host_listings_count  \\\n",
       "0                                f                              1   \n",
       "1                                t                              1   \n",
       "2                                f                             17   \n",
       "3                                f                              3   \n",
       "4                                f                              1   \n",
       "\n",
       "  reviews_per_month  \n",
       "0              0.04  \n",
       "1              1.50  \n",
       "2              0.15  \n",
       "3              0.30  \n",
       "4              0.74  \n",
       "\n",
       "[5 rows x 84 columns]"
      ]
     },
     "execution_count": 1,
     "metadata": {},
     "output_type": "execute_result"
    }
   ],
   "source": [
    "import pandas as pd\n",
    "\n",
    "cleansed_listings_dec18 = pd.read_csv('cleansed_listings_dec18.csv')\n",
    "\n",
    "cleansed_listings_dec18.head()"
   ]
  },
  {
   "cell_type": "code",
   "execution_count": 2,
   "metadata": {},
   "outputs": [
    {
     "data": {
      "text/plain": [
       "Index(['id', 'listing_url', 'scrape_id', 'last_scraped', 'name', 'summary',\n",
       "       'space', 'description', 'neighborhood_overview', 'notes', 'transit',\n",
       "       'access', 'interaction', 'house_rules', 'picture_url', 'host_id',\n",
       "       'host_url', 'host_name', 'host_since', 'host_location', 'host_about',\n",
       "       'host_response_time', 'host_response_rate', 'host_is_superhost',\n",
       "       'host_thumbnail_url', 'host_picture_url', 'host_neighborhood',\n",
       "       'host_verifications', 'host_has_profile_pic', 'host_identity_verified',\n",
       "       'street', 'neighborhood', 'city', 'suburb', 'state', 'zipcode',\n",
       "       'smart_location', 'country_code', 'country', 'latitude', 'longitude',\n",
       "       'is_location_exact', 'property_type', 'room_type', 'accommodates',\n",
       "       'bathrooms', 'bedrooms', 'beds', 'bed_type', 'amenities', 'price',\n",
       "       'weekly_price', 'monthly_price', 'security_deposit', 'cleaning_fee',\n",
       "       'guests_included', 'extra_people', 'minimum_nights', 'maximum_nights',\n",
       "       'calendar_updated', 'has_availability', 'availability_30',\n",
       "       'availability_60', 'availability_90', 'availability_365',\n",
       "       'calendar_last_scraped', 'number_of_reviews', 'first_review',\n",
       "       'last_review', 'review_scores_rating', 'review_scores_accuracy',\n",
       "       'review_scores_cleanliness', 'review_scores_checkin',\n",
       "       'review_scores_communication', 'review_scores_location',\n",
       "       'review_scores_value', 'requires_license', 'license',\n",
       "       'instant_bookable', 'cancellation_policy',\n",
       "       'require_guest_profile_picture', 'require_guest_phone_verification',\n",
       "       'calculated_host_listings_count', 'reviews_per_month'],\n",
       "      dtype='object')"
      ]
     },
     "execution_count": 2,
     "metadata": {},
     "output_type": "execute_result"
    }
   ],
   "source": [
    "cleansed_listings_dec18.columns"
   ]
  },
  {
   "cell_type": "code",
   "execution_count": 3,
   "metadata": {},
   "outputs": [
    {
     "data": {
      "text/html": [
       "<div>\n",
       "<style scoped>\n",
       "    .dataframe tbody tr th:only-of-type {\n",
       "        vertical-align: middle;\n",
       "    }\n",
       "\n",
       "    .dataframe tbody tr th {\n",
       "        vertical-align: top;\n",
       "    }\n",
       "\n",
       "    .dataframe thead th {\n",
       "        text-align: right;\n",
       "    }\n",
       "</style>\n",
       "<table border=\"1\" class=\"dataframe\">\n",
       "  <thead>\n",
       "    <tr style=\"text-align: right;\">\n",
       "      <th></th>\n",
       "      <th>id</th>\n",
       "      <th>suburb</th>\n",
       "      <th>bed_type</th>\n",
       "      <th>bathrooms</th>\n",
       "      <th>price</th>\n",
       "      <th>minimum_nights</th>\n",
       "      <th>maximum_nights</th>\n",
       "      <th>review_scores_cleanliness</th>\n",
       "      <th>review_scores_checkin</th>\n",
       "      <th>review_scores_communication</th>\n",
       "      <th>review_scores_location</th>\n",
       "      <th>number_of_reviews</th>\n",
       "      <th>review_scores_rating</th>\n",
       "    </tr>\n",
       "  </thead>\n",
       "  <tbody>\n",
       "    <tr>\n",
       "      <th>0</th>\n",
       "      <td>9835</td>\n",
       "      <td>Bulleen</td>\n",
       "      <td>Real Bed</td>\n",
       "      <td>1.0</td>\n",
       "      <td>60</td>\n",
       "      <td>1</td>\n",
       "      <td>365</td>\n",
       "      <td>10.0</td>\n",
       "      <td>10.0</td>\n",
       "      <td>10.0</td>\n",
       "      <td>9.0</td>\n",
       "      <td>4</td>\n",
       "      <td>90.0</td>\n",
       "    </tr>\n",
       "    <tr>\n",
       "      <th>1</th>\n",
       "      <td>10803</td>\n",
       "      <td>Brunswick East</td>\n",
       "      <td>Futon</td>\n",
       "      <td>1.0</td>\n",
       "      <td>35</td>\n",
       "      <td>3</td>\n",
       "      <td>45</td>\n",
       "      <td>8.0</td>\n",
       "      <td>9.0</td>\n",
       "      <td>9.0</td>\n",
       "      <td>9.0</td>\n",
       "      <td>108</td>\n",
       "      <td>87.0</td>\n",
       "    </tr>\n",
       "    <tr>\n",
       "      <th>2</th>\n",
       "      <td>12936</td>\n",
       "      <td>St Kilda</td>\n",
       "      <td>Real Bed</td>\n",
       "      <td>1.0</td>\n",
       "      <td>159</td>\n",
       "      <td>3</td>\n",
       "      <td>28</td>\n",
       "      <td>10.0</td>\n",
       "      <td>9.0</td>\n",
       "      <td>9.0</td>\n",
       "      <td>9.0</td>\n",
       "      <td>15</td>\n",
       "      <td>94.0</td>\n",
       "    </tr>\n",
       "    <tr>\n",
       "      <th>3</th>\n",
       "      <td>15246</td>\n",
       "      <td>Thornbury</td>\n",
       "      <td>Real Bed</td>\n",
       "      <td>1.5</td>\n",
       "      <td>50</td>\n",
       "      <td>2</td>\n",
       "      <td>200</td>\n",
       "      <td>9.0</td>\n",
       "      <td>10.0</td>\n",
       "      <td>10.0</td>\n",
       "      <td>9.0</td>\n",
       "      <td>29</td>\n",
       "      <td>94.0</td>\n",
       "    </tr>\n",
       "    <tr>\n",
       "      <th>4</th>\n",
       "      <td>16760</td>\n",
       "      <td>St Kilda East</td>\n",
       "      <td>Real Bed</td>\n",
       "      <td>1.0</td>\n",
       "      <td>69</td>\n",
       "      <td>1</td>\n",
       "      <td>90</td>\n",
       "      <td>9.0</td>\n",
       "      <td>10.0</td>\n",
       "      <td>10.0</td>\n",
       "      <td>10.0</td>\n",
       "      <td>63</td>\n",
       "      <td>90.0</td>\n",
       "    </tr>\n",
       "  </tbody>\n",
       "</table>\n",
       "</div>"
      ],
      "text/plain": [
       "      id          suburb  bed_type  bathrooms  price  minimum_nights  \\\n",
       "0   9835         Bulleen  Real Bed        1.0     60               1   \n",
       "1  10803  Brunswick East     Futon        1.0     35               3   \n",
       "2  12936        St Kilda  Real Bed        1.0    159               3   \n",
       "3  15246       Thornbury  Real Bed        1.5     50               2   \n",
       "4  16760   St Kilda East  Real Bed        1.0     69               1   \n",
       "\n",
       "   maximum_nights  review_scores_cleanliness  review_scores_checkin  \\\n",
       "0             365                       10.0                   10.0   \n",
       "1              45                        8.0                    9.0   \n",
       "2              28                       10.0                    9.0   \n",
       "3             200                        9.0                   10.0   \n",
       "4              90                        9.0                   10.0   \n",
       "\n",
       "   review_scores_communication  review_scores_location  number_of_reviews  \\\n",
       "0                         10.0                     9.0                  4   \n",
       "1                          9.0                     9.0                108   \n",
       "2                          9.0                     9.0                 15   \n",
       "3                         10.0                     9.0                 29   \n",
       "4                         10.0                    10.0                 63   \n",
       "\n",
       "   review_scores_rating  \n",
       "0                  90.0  \n",
       "1                  87.0  \n",
       "2                  94.0  \n",
       "3                  94.0  \n",
       "4                  90.0  "
      ]
     },
     "execution_count": 3,
     "metadata": {},
     "output_type": "execute_result"
    }
   ],
   "source": [
    "df = cleansed_listings_dec18[['id', 'suburb', 'bed_type', 'bathrooms', 'price', 'minimum_nights', 'maximum_nights',\n",
    "                               'review_scores_cleanliness','review_scores_checkin','review_scores_communication',\n",
    "                              'review_scores_location','number_of_reviews', 'review_scores_rating']]\n",
    "\n",
    "df = df[df.review_scores_rating > 0]\n",
    "df.fillna(0, inplace=True)\n",
    "\n",
    "X = ['bathrooms', 'price', 'minimum_nights', 'maximum_nights',\n",
    "    'review_scores_cleanliness','review_scores_checkin','review_scores_communication',\n",
    "    'review_scores_location','number_of_reviews']\n",
    "\n",
    "df.head()"
   ]
  },
  {
   "cell_type": "code",
   "execution_count": 4,
   "metadata": {},
   "outputs": [
    {
     "data": {
      "text/plain": [
       "(17189, 17189)"
      ]
     },
     "execution_count": 4,
     "metadata": {},
     "output_type": "execute_result"
    }
   ],
   "source": [
    "len(df), df['id'].nunique()"
   ]
  },
  {
   "cell_type": "code",
   "execution_count": 5,
   "metadata": {},
   "outputs": [],
   "source": [
    "from sklearn.model_selection import train_test_split\n",
    "\n",
    "train, test = train_test_split(df, test_size=0.2)"
   ]
  },
  {
   "cell_type": "code",
   "execution_count": 6,
   "metadata": {},
   "outputs": [
    {
     "data": {
      "text/plain": [
       "(13751, 3438)"
      ]
     },
     "execution_count": 6,
     "metadata": {},
     "output_type": "execute_result"
    }
   ],
   "source": [
    "len(train), len(test)"
   ]
  },
  {
   "cell_type": "code",
   "execution_count": 7,
   "metadata": {},
   "outputs": [],
   "source": [
    "train_Y = train['review_scores_rating']\n",
    "train_X = train[X]\n",
    "test_Y = test['review_scores_rating']\n",
    "test_X = test[X]"
   ]
  },
  {
   "cell_type": "code",
   "execution_count": 8,
   "metadata": {},
   "outputs": [
    {
     "data": {
      "text/plain": [
       "LinearRegression(copy_X=True, fit_intercept=True, n_jobs=1, normalize=False)"
      ]
     },
     "execution_count": 8,
     "metadata": {},
     "output_type": "execute_result"
    }
   ],
   "source": [
    "from sklearn.linear_model import LinearRegression\n",
    "\n",
    "regressor = LinearRegression()\n",
    "regressor.fit(train_X, train_Y)\n"
   ]
  },
  {
   "cell_type": "code",
   "execution_count": 9,
   "metadata": {},
   "outputs": [
    {
     "data": {
      "text/plain": [
       "<matplotlib.collections.PathCollection at 0x2280c728400>"
      ]
     },
     "execution_count": 9,
     "metadata": {},
     "output_type": "execute_result"
    },
    {
     "data": {
      "image/png": "[encoded data removed]",
      "text/plain": [
       "<matplotlib.figure.Figure at 0x228095fd5c0>"
      ]
     },
     "metadata": {},
     "output_type": "display_data"
    }
   ],
   "source": [
    "import matplotlib.pyplot as plt   \n",
    "%matplotlib inline\n",
    "\n",
    "\n",
    "Prediction = regressor.predict(test_X)\n",
    "\n",
    "plt.scatter(test_Y, Prediction)"
   ]
  },
  {
   "cell_type": "code",
   "execution_count": 10,
   "metadata": {},
   "outputs": [
    {
     "data": {
      "text/plain": [
       "(90.0, 97.89461446805309)"
      ]
     },
     "execution_count": 10,
     "metadata": {},
     "output_type": "execute_result"
    }
   ],
   "source": [
    "test_Y[0], Prediction[0]"
   ]
  },
  {
   "cell_type": "code",
   "execution_count": 11,
   "metadata": {},
   "outputs": [
    {
     "data": {
      "text/plain": [
       "22.774456442361373"
      ]
     },
     "execution_count": 11,
     "metadata": {},
     "output_type": "execute_result"
    }
   ],
   "source": [
    "import numpy as np\n",
    "#mean square error\n",
    "\n",
    "np.mean((Prediction-test_Y)**2)\n"
   ]
  }
 ],
 "metadata": {
  "kernelspec": {
   "display_name": "Python 3",
   "language": "python",
   "name": "python3"
  },
  "language_info": {
   "codemirror_mode": {
    "name": "ipython",
    "version": 3
   },
   "file_extension": ".py",
   "mimetype": "text/x-python",
   "name": "python",
   "nbconvert_exporter": "python",
   "pygments_lexer": "ipython3",
   "version": "3.6.4"
  }
 },
 "nbformat": 4,
 "nbformat_minor": 2
}
